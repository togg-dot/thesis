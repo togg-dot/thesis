{
 "cells": [
  {
   "cell_type": "code",
   "execution_count": 2,
   "metadata": {},
   "outputs": [],
   "source": [
    "import pandas as pd\n",
    "import numpy as np\n",
    "import matplotlib.pyplot as plt\n",
    "from datetime import date,datetime,timedelta\n",
    "from scipy.spatial.distance import cdist\n",
    "from sklearn import cluster\n",
    "from sklearn import metrics\n",
    "from sklearn.metrics import pairwise_distances\n",
    "from sklearn import datasets\n",
    "%matplotlib inline"
   ]
  },
  {
   "cell_type": "markdown",
   "metadata": {},
   "source": [
    "# Data preperation"
   ]
  },
  {
   "cell_type": "code",
   "execution_count": 3,
   "metadata": {},
   "outputs": [
    {
     "name": "stderr",
     "output_type": "stream",
     "text": [
      "/Users/tamo/opt/anaconda3/lib/python3.8/site-packages/IPython/core/interactiveshell.py:3146: DtypeWarning: Columns (3) have mixed types.Specify dtype option on import or set low_memory=False.\n",
      "  has_raised = await self.run_ast_nodes(code_ast.body, cell_name,\n"
     ]
    }
   ],
   "source": [
    "#read in whole data excluding Linz csv file :\n",
    "df = pd.read_csv(\"/Users/tamo/Documents/Studium/WS 20-21/Master thesis/Data/Intelliekon/consumption_loadcourse_excl_Linz.csv\")\n",
    "#read in only Ulm data csv file:\n",
    "#df = pd.read_csv(\"/Users/tamo/Documents/Studium/WS 20-21/Master thesis/Data/Intelliekon/consumption_loadcurse_Ulm.csv\")"
   ]
  },
  {
   "cell_type": "code",
   "execution_count": 4,
   "metadata": {},
   "outputs": [
    {
     "data": {
      "text/html": [
       "<div>\n",
       "<style scoped>\n",
       "    .dataframe tbody tr th:only-of-type {\n",
       "        vertical-align: middle;\n",
       "    }\n",
       "\n",
       "    .dataframe tbody tr th {\n",
       "        vertical-align: top;\n",
       "    }\n",
       "\n",
       "    .dataframe thead th {\n",
       "        text-align: right;\n",
       "    }\n",
       "</style>\n",
       "<table border=\"1\" class=\"dataframe\">\n",
       "  <thead>\n",
       "    <tr style=\"text-align: right;\">\n",
       "      <th></th>\n",
       "      <th>datetime</th>\n",
       "      <th>ID</th>\n",
       "      <th>Fall_ge1</th>\n",
       "      <th>IdCons</th>\n",
       "      <th>Datum</th>\n",
       "      <th>Hour_of_Year</th>\n",
       "      <th>Season</th>\n",
       "      <th>Weekday</th>\n",
       "      <th>Hour_of_Day</th>\n",
       "      <th>Fehlerfeld</th>\n",
       "      <th>Daten_Herkunft</th>\n",
       "      <th>Electricity_Demand</th>\n",
       "      <th>dateyear</th>\n",
       "    </tr>\n",
       "  </thead>\n",
       "  <tbody>\n",
       "    <tr>\n",
       "      <th>0</th>\n",
       "      <td>2009-10-06 01:00:00</td>\n",
       "      <td>1</td>\n",
       "      <td>636</td>\n",
       "      <td>391943</td>\n",
       "      <td>6/10/2009</td>\n",
       "      <td>6673</td>\n",
       "      <td>0</td>\n",
       "      <td>1</td>\n",
       "      <td>1</td>\n",
       "      <td>0</td>\n",
       "      <td>Münster</td>\n",
       "      <td>215.0</td>\n",
       "      <td>2009</td>\n",
       "    </tr>\n",
       "    <tr>\n",
       "      <th>1</th>\n",
       "      <td>2009-10-07 01:00:00</td>\n",
       "      <td>2</td>\n",
       "      <td>636</td>\n",
       "      <td>391943</td>\n",
       "      <td>7/10/2009</td>\n",
       "      <td>6697</td>\n",
       "      <td>0</td>\n",
       "      <td>1</td>\n",
       "      <td>1</td>\n",
       "      <td>0</td>\n",
       "      <td>Münster</td>\n",
       "      <td>196.0</td>\n",
       "      <td>2009</td>\n",
       "    </tr>\n",
       "    <tr>\n",
       "      <th>2</th>\n",
       "      <td>2009-10-08 01:00:00</td>\n",
       "      <td>3</td>\n",
       "      <td>636</td>\n",
       "      <td>391943</td>\n",
       "      <td>8/10/2009</td>\n",
       "      <td>6721</td>\n",
       "      <td>0</td>\n",
       "      <td>1</td>\n",
       "      <td>1</td>\n",
       "      <td>0</td>\n",
       "      <td>Münster</td>\n",
       "      <td>235.0</td>\n",
       "      <td>2009</td>\n",
       "    </tr>\n",
       "    <tr>\n",
       "      <th>3</th>\n",
       "      <td>2009-10-09 01:00:00</td>\n",
       "      <td>4</td>\n",
       "      <td>636</td>\n",
       "      <td>391943</td>\n",
       "      <td>9/10/2009</td>\n",
       "      <td>6745</td>\n",
       "      <td>0</td>\n",
       "      <td>1</td>\n",
       "      <td>1</td>\n",
       "      <td>0</td>\n",
       "      <td>Münster</td>\n",
       "      <td>250.0</td>\n",
       "      <td>2009</td>\n",
       "    </tr>\n",
       "    <tr>\n",
       "      <th>4</th>\n",
       "      <td>2009-10-10 01:00:00</td>\n",
       "      <td>5</td>\n",
       "      <td>636</td>\n",
       "      <td>391943</td>\n",
       "      <td>10/10/2009</td>\n",
       "      <td>6769</td>\n",
       "      <td>0</td>\n",
       "      <td>2</td>\n",
       "      <td>1</td>\n",
       "      <td>0</td>\n",
       "      <td>Münster</td>\n",
       "      <td>288.0</td>\n",
       "      <td>2009</td>\n",
       "    </tr>\n",
       "  </tbody>\n",
       "</table>\n",
       "</div>"
      ],
      "text/plain": [
       "              datetime  ID  Fall_ge1  IdCons       Datum  Hour_of_Year  \\\n",
       "0  2009-10-06 01:00:00   1       636  391943   6/10/2009          6673   \n",
       "1  2009-10-07 01:00:00   2       636  391943   7/10/2009          6697   \n",
       "2  2009-10-08 01:00:00   3       636  391943   8/10/2009          6721   \n",
       "3  2009-10-09 01:00:00   4       636  391943   9/10/2009          6745   \n",
       "4  2009-10-10 01:00:00   5       636  391943  10/10/2009          6769   \n",
       "\n",
       "   Season  Weekday  Hour_of_Day  Fehlerfeld Daten_Herkunft  \\\n",
       "0       0        1            1           0        Münster   \n",
       "1       0        1            1           0        Münster   \n",
       "2       0        1            1           0        Münster   \n",
       "3       0        1            1           0        Münster   \n",
       "4       0        2            1           0        Münster   \n",
       "\n",
       "   Electricity_Demand  dateyear  \n",
       "0               215.0      2009  \n",
       "1               196.0      2009  \n",
       "2               235.0      2009  \n",
       "3               250.0      2009  \n",
       "4               288.0      2009  "
      ]
     },
     "execution_count": 4,
     "metadata": {},
     "output_type": "execute_result"
    }
   ],
   "source": [
    "df.head()"
   ]
  },
  {
   "cell_type": "code",
   "execution_count": 5,
   "metadata": {},
   "outputs": [
    {
     "data": {
      "text/plain": [
       "array(['Münster', 'Kaiserslautern', 'Ulm', 'Krefeld', 'Schwerte',\n",
       "       'Hassfurt', 'Celle'], dtype=object)"
      ]
     },
     "execution_count": 5,
     "metadata": {},
     "output_type": "execute_result"
    }
   ],
   "source": [
    "df[\"Daten_Herkunft\"].unique()"
   ]
  },
  {
   "cell_type": "code",
   "execution_count": 6,
   "metadata": {},
   "outputs": [],
   "source": [
    "#Split df to certain location\n",
    "#df = df[df[\"Daten_Herkunft\"]==\"Schwerte\"]\n",
    "#Liste mit Fall_ge to connect results with survey data\n",
    "id_lst = list(df[\"Fall_ge1\"].unique())"
   ]
  },
  {
   "cell_type": "code",
   "execution_count": 7,
   "metadata": {},
   "outputs": [],
   "source": [
    "#exclude fall_ge1 = 143 and 104 (outliers for location: \"Schwerte\")\n",
    "#df = df[df[\"Fall_ge1\"] != 143]\n",
    "#df = df[df[\"Fall_ge1\"] != 104]"
   ]
  },
  {
   "cell_type": "code",
   "execution_count": 8,
   "metadata": {},
   "outputs": [
    {
     "data": {
      "text/plain": [
       "600"
      ]
     },
     "execution_count": 8,
     "metadata": {},
     "output_type": "execute_result"
    }
   ],
   "source": [
    "df[\"Fall_ge1\"].nunique()"
   ]
  },
  {
   "cell_type": "code",
   "execution_count": 9,
   "metadata": {},
   "outputs": [
    {
     "data": {
      "text/html": [
       "<div>\n",
       "<style scoped>\n",
       "    .dataframe tbody tr th:only-of-type {\n",
       "        vertical-align: middle;\n",
       "    }\n",
       "\n",
       "    .dataframe tbody tr th {\n",
       "        vertical-align: top;\n",
       "    }\n",
       "\n",
       "    .dataframe thead th {\n",
       "        text-align: right;\n",
       "    }\n",
       "</style>\n",
       "<table border=\"1\" class=\"dataframe\">\n",
       "  <thead>\n",
       "    <tr style=\"text-align: right;\">\n",
       "      <th></th>\n",
       "      <th>datetime</th>\n",
       "      <th>ID</th>\n",
       "      <th>Fall_ge1</th>\n",
       "      <th>IdCons</th>\n",
       "      <th>Datum</th>\n",
       "      <th>Hour_of_Year</th>\n",
       "      <th>Season</th>\n",
       "      <th>Weekday</th>\n",
       "      <th>Hour_of_Day</th>\n",
       "      <th>Fehlerfeld</th>\n",
       "      <th>Daten_Herkunft</th>\n",
       "      <th>Electricity_Demand</th>\n",
       "      <th>dateyear</th>\n",
       "      <th>day_of_year</th>\n",
       "      <th>hour</th>\n",
       "    </tr>\n",
       "  </thead>\n",
       "  <tbody>\n",
       "    <tr>\n",
       "      <th>0</th>\n",
       "      <td>2009-10-06 01:00:00</td>\n",
       "      <td>1</td>\n",
       "      <td>636</td>\n",
       "      <td>391943</td>\n",
       "      <td>6/10/2009</td>\n",
       "      <td>6673</td>\n",
       "      <td>0</td>\n",
       "      <td>1</td>\n",
       "      <td>1</td>\n",
       "      <td>0</td>\n",
       "      <td>Münster</td>\n",
       "      <td>215.0</td>\n",
       "      <td>2009</td>\n",
       "      <td>279</td>\n",
       "      <td>1</td>\n",
       "    </tr>\n",
       "    <tr>\n",
       "      <th>1</th>\n",
       "      <td>2009-10-07 01:00:00</td>\n",
       "      <td>2</td>\n",
       "      <td>636</td>\n",
       "      <td>391943</td>\n",
       "      <td>7/10/2009</td>\n",
       "      <td>6697</td>\n",
       "      <td>0</td>\n",
       "      <td>1</td>\n",
       "      <td>1</td>\n",
       "      <td>0</td>\n",
       "      <td>Münster</td>\n",
       "      <td>196.0</td>\n",
       "      <td>2009</td>\n",
       "      <td>280</td>\n",
       "      <td>1</td>\n",
       "    </tr>\n",
       "    <tr>\n",
       "      <th>2</th>\n",
       "      <td>2009-10-08 01:00:00</td>\n",
       "      <td>3</td>\n",
       "      <td>636</td>\n",
       "      <td>391943</td>\n",
       "      <td>8/10/2009</td>\n",
       "      <td>6721</td>\n",
       "      <td>0</td>\n",
       "      <td>1</td>\n",
       "      <td>1</td>\n",
       "      <td>0</td>\n",
       "      <td>Münster</td>\n",
       "      <td>235.0</td>\n",
       "      <td>2009</td>\n",
       "      <td>281</td>\n",
       "      <td>1</td>\n",
       "    </tr>\n",
       "    <tr>\n",
       "      <th>3</th>\n",
       "      <td>2009-10-09 01:00:00</td>\n",
       "      <td>4</td>\n",
       "      <td>636</td>\n",
       "      <td>391943</td>\n",
       "      <td>9/10/2009</td>\n",
       "      <td>6745</td>\n",
       "      <td>0</td>\n",
       "      <td>1</td>\n",
       "      <td>1</td>\n",
       "      <td>0</td>\n",
       "      <td>Münster</td>\n",
       "      <td>250.0</td>\n",
       "      <td>2009</td>\n",
       "      <td>282</td>\n",
       "      <td>1</td>\n",
       "    </tr>\n",
       "    <tr>\n",
       "      <th>4</th>\n",
       "      <td>2009-10-10 01:00:00</td>\n",
       "      <td>5</td>\n",
       "      <td>636</td>\n",
       "      <td>391943</td>\n",
       "      <td>10/10/2009</td>\n",
       "      <td>6769</td>\n",
       "      <td>0</td>\n",
       "      <td>2</td>\n",
       "      <td>1</td>\n",
       "      <td>0</td>\n",
       "      <td>Münster</td>\n",
       "      <td>288.0</td>\n",
       "      <td>2009</td>\n",
       "      <td>283</td>\n",
       "      <td>1</td>\n",
       "    </tr>\n",
       "  </tbody>\n",
       "</table>\n",
       "</div>"
      ],
      "text/plain": [
       "             datetime  ID  Fall_ge1  IdCons       Datum  Hour_of_Year  Season  \\\n",
       "0 2009-10-06 01:00:00   1       636  391943   6/10/2009          6673       0   \n",
       "1 2009-10-07 01:00:00   2       636  391943   7/10/2009          6697       0   \n",
       "2 2009-10-08 01:00:00   3       636  391943   8/10/2009          6721       0   \n",
       "3 2009-10-09 01:00:00   4       636  391943   9/10/2009          6745       0   \n",
       "4 2009-10-10 01:00:00   5       636  391943  10/10/2009          6769       0   \n",
       "\n",
       "   Weekday  Hour_of_Day  Fehlerfeld Daten_Herkunft  Electricity_Demand  \\\n",
       "0        1            1           0        Münster               215.0   \n",
       "1        1            1           0        Münster               196.0   \n",
       "2        1            1           0        Münster               235.0   \n",
       "3        1            1           0        Münster               250.0   \n",
       "4        2            1           0        Münster               288.0   \n",
       "\n",
       "   dateyear  day_of_year  hour  \n",
       "0      2009          279     1  \n",
       "1      2009          280     1  \n",
       "2      2009          281     1  \n",
       "3      2009          282     1  \n",
       "4      2009          283     1  "
      ]
     },
     "execution_count": 9,
     "metadata": {},
     "output_type": "execute_result"
    }
   ],
   "source": [
    "#convert to datetime format and ad new \"date\" and \"hour\"-column in datetime format\n",
    "\n",
    "df[\"datetime\"] = pd.to_datetime(df[\"Datum\"],dayfirst = True) + df[\"Hour_of_Day\"].astype(\"timedelta64[h]\")\n",
    "df.datetime.dt.tz_localize(\"UTC\").dt.tz_convert(\"Europe/Berlin\")\n",
    "\n",
    "#df[\"date\"]= df['datetime'].apply(lambda x: x.date)\n",
    "df[\"day_of_year\"] = df[\"datetime\"].apply(lambda x: x.timetuple().tm_yday)\n",
    "df[\"hour\"]= df['datetime'].apply(lambda x: x.hour)\n",
    "df.head()\n"
   ]
  },
  {
   "cell_type": "code",
   "execution_count": 10,
   "metadata": {},
   "outputs": [],
   "source": [
    "#normalisation:\n",
    "df['max_energy'] = df.groupby(['Fall_ge1'])['Electricity_Demand'].transform(max)\n",
    "df['norm_energy'] = df['Electricity_Demand'] / df['max_energy']"
   ]
  },
  {
   "cell_type": "code",
   "execution_count": 11,
   "metadata": {},
   "outputs": [],
   "source": [
    "#Meteorological seasons:\n",
    "#winter\n",
    "sdate_wi = date(2009, 12, 1)   # start date\n",
    "edate_wi = date(2010, 2, 28)   # end date\n",
    "#spring\n",
    "sdate_sp = date(2010, 3, 1)   # start date\n",
    "edate_sp = date(2010, 5, 31)   # end date\n",
    "#summer\n",
    "sdate_su = date(2010, 6, 1)   # start date\n",
    "edate_su = date(2010, 8, 31)   # end date\n",
    "#Fall\n",
    "sdate_fa = date(2009, 9, 1)   # start date\n",
    "edate_fa = date(2009, 11, 30)   # end date"
   ]
  },
  {
   "cell_type": "code",
   "execution_count": 12,
   "metadata": {},
   "outputs": [],
   "source": [
    "#filter df by season:\n",
    "df_fa = df[(df[\"datetime\"] > str(sdate_fa)) & (df[\"datetime\"] <= str(edate_fa))]\n",
    "df_wi = df[(df[\"datetime\"] > str(sdate_wi)) & (df[\"datetime\"] <= str(edate_wi))]\n",
    "df_sp = df[(df[\"datetime\"] > str(sdate_sp)) & (df[\"datetime\"] <= str(edate_sp))]\n",
    "df_su = df[(df[\"datetime\"] > str(sdate_su)) & (df[\"datetime\"] <= str(edate_su))]"
   ]
  },
  {
   "cell_type": "code",
   "execution_count": 13,
   "metadata": {},
   "outputs": [
    {
     "data": {
      "text/plain": [
       "(1029672, 17)"
      ]
     },
     "execution_count": 13,
     "metadata": {},
     "output_type": "execute_result"
    }
   ],
   "source": [
    "df_sp.shape"
   ]
  },
  {
   "cell_type": "code",
   "execution_count": 14,
   "metadata": {},
   "outputs": [
    {
     "data": {
      "text/plain": [
       "(1071120, 17)"
      ]
     },
     "execution_count": 14,
     "metadata": {},
     "output_type": "execute_result"
    }
   ],
   "source": [
    "df_su.shape"
   ]
  },
  {
   "cell_type": "code",
   "execution_count": 15,
   "metadata": {},
   "outputs": [
    {
     "data": {
      "text/plain": [
       "(933480, 17)"
      ]
     },
     "execution_count": 15,
     "metadata": {},
     "output_type": "execute_result"
    }
   ],
   "source": [
    "df_wi.shape"
   ]
  },
  {
   "cell_type": "code",
   "execution_count": 16,
   "metadata": {},
   "outputs": [
    {
     "data": {
      "text/plain": [
       "(929712, 17)"
      ]
     },
     "execution_count": 16,
     "metadata": {},
     "output_type": "execute_result"
    }
   ],
   "source": [
    "df_fa.shape"
   ]
  },
  {
   "cell_type": "code",
   "execution_count": 17,
   "metadata": {},
   "outputs": [],
   "source": [
    "#split dataframes into weekday and weekend days\n",
    "df_fa_week=df_fa[df_fa[\"Weekday\"]==1]\n",
    "df_fa_wknd=df_fa[df_fa[\"Weekday\"]==2]\n",
    "df_wi_week=df_wi[df_wi[\"Weekday\"]==1]\n",
    "df_wi_wknd=df_wi[df_wi[\"Weekday\"]==2]\n",
    "df_sp_week=df_sp[df_sp[\"Weekday\"]==1]\n",
    "df_sp_wknd=df_sp[df_sp[\"Weekday\"]==2]\n",
    "df_su_week=df_su[df_su[\"Weekday\"]==1]\n",
    "df_su_wknd=df_su[df_su[\"Weekday\"]==2]"
   ]
  },
  {
   "cell_type": "code",
   "execution_count": 18,
   "metadata": {},
   "outputs": [],
   "source": [
    "df.set_index(\"datetime\", inplace = True)"
   ]
  },
  {
   "cell_type": "markdown",
   "metadata": {},
   "source": [
    "# Functions for clustering"
   ]
  },
  {
   "cell_type": "code",
   "execution_count": 19,
   "metadata": {},
   "outputs": [],
   "source": [
    "def elbow_method(dataframe, min_k, max_k):\n",
    "    # Try all k's between min_k and max_k\n",
    "    cluster_nums = range(min_k, max_k + 1)\n",
    "    \n",
    "    # Array of K-means algorithm objects\n",
    "    k_mean_algs = [cluster.KMeans(n_clusters = k) for k in cluster_nums]\n",
    "    \n",
    "    # Array with the results of the K-mean algorithms\n",
    "    k_mean_res = [alg.fit(dataframe) for alg in k_mean_algs]\n",
    "    \n",
    "    # Array with the centroids for each value of k\n",
    "    centroids = [res.cluster_centers_ for res in k_mean_res]\n",
    "    \n",
    "    # Euclidean distance between the points of the cluster and the centroids\n",
    "    distances = [cdist(dataframe, centroid, 'euclidean') for centroid in centroids]\n",
    "    \n",
    "    # Get the closest centroid (and the corresponding distance)\n",
    "    min_indices = [np.argmin(distance, axis = 1) for distance in distances]\n",
    "    min_distances = [np.min(distance, axis = 1) for distance in distances]\n",
    "    \n",
    "    # Calculate the average squared distance\n",
    "    avg_sum_squares = [sum(dist ** 2) / kmeans_df.shape[0] for dist in min_distances]\n",
    "\n",
    "    # Plot the elbow graph\n",
    "    fig = plt.figure()\n",
    "    ax = fig.add_subplot(111)\n",
    "    ax.plot(cluster_nums, avg_sum_squares, 'b*-')\n",
    "    plt.grid(True)\n",
    "    plt.xlabel('Number of clusters')\n",
    "    plt.ylabel('Average sum of squares within cluster')\n",
    "    plt.show()\n",
    "    \n",
    "    return (k_mean_algs, k_mean_res) \n",
    "    #return distances"
   ]
  },
  {
   "cell_type": "code",
   "execution_count": 20,
   "metadata": {},
   "outputs": [],
   "source": [
    "#multiline plot:\n",
    "def multiline_hourly_plot(dataset, avg = None, ycol = 'Electricity_Demand', ymin = None, ymax = None, opacity = None, title = None):\n",
    "    fig, ax = plt.subplots()\n",
    "    \n",
    "    if ymin is not None:\n",
    "        ax.set_ylim(bottom = ymin)\n",
    "    \n",
    "    if ymax is not None:\n",
    "        ax.set_ylim(top = ymax)\n",
    "        \n",
    "    if opacity is None:\n",
    "        opacity = 0.01\n",
    "\n",
    "    for key, group in dataset:\n",
    "        ax = group.groupby('hour').mean().plot(ax = ax, y = ycol, color = '#000000', alpha = opacity)\n",
    "    \n",
    "    if avg is not None:\n",
    "        ax = avg.groupby('hour').mean().plot(ax = ax, y = ycol, color = '#FF0000', alpha = 1, linewidth = 2)\n",
    "        \n",
    "    if title is not None:\n",
    "        ax.set_title(title)\n",
    "\n",
    "    ax.legend().set_visible(False) # Disable the plot legend\n",
    "    plt.show()\n",
    "    \n",
    "    return fig"
   ]
  },
  {
   "cell_type": "code",
   "execution_count": 21,
   "metadata": {},
   "outputs": [],
   "source": [
    "def clusters_visualisation(grp_df, id_vars, value_vars):\n",
    "    melt_df = pd.melt(kmeans_df, id_vars = id_vars, value_vars = value_vars, var_name = 'hour', value_name = 'norm_energy')\n",
    "    clusters = grp_df['cluster'].unique()\n",
    "    clusters.sort()\n",
    "    for c in clusters:\n",
    "        avg = melt_df[melt_df.cluster == c]\n",
    "        data = avg.groupby(id_vars)\n",
    "        multiline_hourly_plot(data, avg = avg, ymin = 0, ycol = 'norm_energy', opacity = 0.1, title = 'Cluster ' + str(c))"
   ]
  },
  {
   "cell_type": "code",
   "execution_count": 22,
   "metadata": {},
   "outputs": [],
   "source": [
    "#def plot_clustering_results()"
   ]
  },
  {
   "cell_type": "code",
   "execution_count": 23,
   "metadata": {},
   "outputs": [],
   "source": [
    "#def cluster_overview(cluster_centers)\n",
    "#    sort\n",
    "#    plt.plot(fall_week[x],label=\"Cluster \" + str(x + 1))"
   ]
  },
  {
   "cell_type": "code",
   "execution_count": 24,
   "metadata": {},
   "outputs": [],
   "source": [
    "# for x in range(0,5,1):\n",
    "#     plt.plot(fall_week[x],label=\"Cluster \" + str(x + 1))\n",
    "# plt.legend()\n",
    "# plt.title(\"Fall weekdays\")\n",
    "# plt.ylabel(\"normalized consumption\")\n",
    "# plt.xlabel(\"hour\")"
   ]
  },
  {
   "cell_type": "markdown",
   "metadata": {},
   "source": [
    "# Fall"
   ]
  },
  {
   "cell_type": "markdown",
   "metadata": {},
   "source": [
    "### Fall weekday "
   ]
  },
  {
   "cell_type": "code",
   "execution_count": 25,
   "metadata": {},
   "outputs": [],
   "source": [
    "red_df=df_fa_week[[\"Fall_ge1\",\"day_of_year\",\"hour\",\"norm_energy\"]]\n",
    "piv_df = pd.pivot_table(red_df,index = [\"Fall_ge1\",\"day_of_year\"],columns = \"hour\",values=\"norm_energy\")\n",
    "piv_df.reset_index(inplace = True)\n",
    "grp_df = piv_df.groupby(\"Fall_ge1\").mean()\n",
    "#grp_df.reset_index(inplace = True)\n",
    "del grp_df[\"day_of_year\"]\n",
    "kmeans_df = grp_df\n",
    "#check if cluster column is in kmeans_df and delet it: (Avoiding error with too many parameters for clustering algorithm)\n",
    "if \"cluster\" in kmeans_df:\n",
    "    del kmeans_df[\"cluster\"]"
   ]
  },
  {
   "cell_type": "code",
   "execution_count": 26,
   "metadata": {
    "scrolled": true
   },
   "outputs": [
    {
     "data": {
      "image/png": "[encoded data removed]",
      "text/plain": [
       "<Figure size 432x288 with 1 Axes>"
      ]
     },
     "metadata": {
      "needs_background": "light"
     },
     "output_type": "display_data"
    }
   ],
   "source": [
    "k_algs, k_res = elbow_method(kmeans_df, 2, 20)"
   ]
  },
  {
   "cell_type": "code",
   "execution_count": 27,
   "metadata": {},
   "outputs": [],
   "source": [
    "algorithm = k_algs[3] # Values of k are {2, 3, 4, 5, ..., 20} so k = 5 corresponds to the element with index 3\n",
    "clustering = k_res[3]"
   ]
  },
  {
   "cell_type": "code",
   "execution_count": 28,
   "metadata": {},
   "outputs": [],
   "source": [
    "#reassign cluster numbers so the cluster numbers are from lowest to highest mean\n",
    "k=5\n",
    "#order of clustering centers by mean (idx)\n",
    "idx = np.argsort(clustering.cluster_centers_.mean(axis = 1))\n",
    "#\"key\" to convert count from 1 to 5 to the order regarding the mean (lut)\n",
    "lut = np.zeros_like(idx)\n",
    "lut[idx] = np.arange(k)"
   ]
  },
  {
   "cell_type": "code",
   "execution_count": 29,
   "metadata": {},
   "outputs": [
    {
     "data": {
      "text/plain": [
       "array([1, 2, 0, 4, 3])"
      ]
     },
     "execution_count": 29,
     "metadata": {},
     "output_type": "execute_result"
    }
   ],
   "source": [
    "idx"
   ]
  },
  {
   "cell_type": "code",
   "execution_count": 30,
   "metadata": {
    "scrolled": false
   },
   "outputs": [],
   "source": [
    "#assign cluster labels odered by mean to dataframe\n",
    "kmeans_df['cluster'] = list(lut[clustering.labels_])"
   ]
  },
  {
   "cell_type": "code",
   "execution_count": 31,
   "metadata": {},
   "outputs": [],
   "source": [
    "#createdataframe with cluster number and ID\n",
    "cluster_df = pd.DataFrame(index = kmeans_df.index)"
   ]
  },
  {
   "cell_type": "code",
   "execution_count": 32,
   "metadata": {},
   "outputs": [],
   "source": [
    "#assign cluster membership to column of cluster_df\n",
    "cluster_df[\"cluster_fa_week\"] = kmeans_df['cluster']"
   ]
  },
  {
   "cell_type": "code",
   "execution_count": 33,
   "metadata": {},
   "outputs": [],
   "source": [
    "#order clustering centers by mean\n",
    "clust_cent = clustering.cluster_centers_[idx]"
   ]
  },
  {
   "cell_type": "code",
   "execution_count": 34,
   "metadata": {
    "scrolled": false
   },
   "outputs": [
    {
     "data": {
      "text/plain": [
       "Text(0.5, 0, 'hour')"
      ]
     },
     "execution_count": 34,
     "metadata": {},
     "output_type": "execute_result"
    },
    {
     "data": {
      "image/png": "[encoded data removed]",
      "text/plain": [
       "<Figure size 432x288 with 1 Axes>"
      ]
     },
     "metadata": {
      "needs_background": "light"
     },
     "output_type": "display_data"
    }
   ],
   "source": [
    "for x in range(0,5,1):\n",
    "    plt.plot(clust_cent[x],label = \"Cluster \" + str(x))  \n",
    "plt.legend()\n",
    "plt.title(\"Fall weekdays\")\n",
    "plt.ylabel(\"normalized consumption\")\n",
    "plt.xlabel(\"hour\")"
   ]
  },
  {
   "cell_type": "code",
   "execution_count": 35,
   "metadata": {},
   "outputs": [],
   "source": [
    "#function for cluster validation scores\n",
    "def cluster_validation(df,clustering):\n",
    "    labels = clustering.labels_\n",
    "    sil_coef = metrics.silhouette_score(df, labels, metric='euclidean')\n",
    "    cal_har = metrics.calinski_harabasz_score(df, labels)\n",
    "    db_ind = metrics.davies_bouldin_score(df, labels)\n",
    "    coef_df = pd.DataFrame([[sil_coef,cal_har,db_ind]], columns = [\"Silhouette\",\"Calinski-Harabasz\",\"Davies-Bouldin\"])\n",
    "    return coef_df"
   ]
  },
  {
   "cell_type": "code",
   "execution_count": 36,
   "metadata": {},
   "outputs": [
    {
     "data": {
      "text/html": [
       "<div>\n",
       "<style scoped>\n",
       "    .dataframe tbody tr th:only-of-type {\n",
       "        vertical-align: middle;\n",
       "    }\n",
       "\n",
       "    .dataframe tbody tr th {\n",
       "        vertical-align: top;\n",
       "    }\n",
       "\n",
       "    .dataframe thead th {\n",
       "        text-align: right;\n",
       "    }\n",
       "</style>\n",
       "<table border=\"1\" class=\"dataframe\">\n",
       "  <thead>\n",
       "    <tr style=\"text-align: right;\">\n",
       "      <th></th>\n",
       "      <th>Silhouette</th>\n",
       "      <th>Calinski-Harabasz</th>\n",
       "      <th>Davies-Bouldin</th>\n",
       "    </tr>\n",
       "  </thead>\n",
       "  <tbody>\n",
       "    <tr>\n",
       "      <th>0</th>\n",
       "      <td>0.773019</td>\n",
       "      <td>5702.545915</td>\n",
       "      <td>0.376897</td>\n",
       "    </tr>\n",
       "  </tbody>\n",
       "</table>\n",
       "</div>"
      ],
      "text/plain": [
       "   Silhouette  Calinski-Harabasz  Davies-Bouldin\n",
       "0    0.773019        5702.545915        0.376897"
      ]
     },
     "execution_count": 36,
     "metadata": {},
     "output_type": "execute_result"
    }
   ],
   "source": [
    "clust_coef = pd.DataFrame(columns = [\"Silhouette\",\"Calinski-Harabasz\",\"Davies-Bouldin\"])\n",
    "clust_coef = clust_coef.append(cluster_validation(kmeans_df,clustering),ignore_index = True)\n",
    "clust_coef"
   ]
  },
  {
   "cell_type": "code",
   "execution_count": null,
   "metadata": {},
   "outputs": [],
   "source": []
  },
  {
   "cell_type": "code",
   "execution_count": 37,
   "metadata": {},
   "outputs": [
    {
     "data": {
      "text/html": [
       "<div>\n",
       "<style scoped>\n",
       "    .dataframe tbody tr th:only-of-type {\n",
       "        vertical-align: middle;\n",
       "    }\n",
       "\n",
       "    .dataframe tbody tr th {\n",
       "        vertical-align: top;\n",
       "    }\n",
       "\n",
       "    .dataframe thead th {\n",
       "        text-align: right;\n",
       "    }\n",
       "</style>\n",
       "<table border=\"1\" class=\"dataframe\">\n",
       "  <thead>\n",
       "    <tr style=\"text-align: right;\">\n",
       "      <th>hour</th>\n",
       "      <th>0</th>\n",
       "      <th>1</th>\n",
       "      <th>2</th>\n",
       "      <th>3</th>\n",
       "      <th>4</th>\n",
       "      <th>5</th>\n",
       "      <th>6</th>\n",
       "      <th>7</th>\n",
       "      <th>8</th>\n",
       "      <th>9</th>\n",
       "      <th>...</th>\n",
       "      <th>15</th>\n",
       "      <th>16</th>\n",
       "      <th>17</th>\n",
       "      <th>18</th>\n",
       "      <th>19</th>\n",
       "      <th>20</th>\n",
       "      <th>21</th>\n",
       "      <th>22</th>\n",
       "      <th>23</th>\n",
       "      <th>cluster</th>\n",
       "    </tr>\n",
       "    <tr>\n",
       "      <th>Fall_ge1</th>\n",
       "      <th></th>\n",
       "      <th></th>\n",
       "      <th></th>\n",
       "      <th></th>\n",
       "      <th></th>\n",
       "      <th></th>\n",
       "      <th></th>\n",
       "      <th></th>\n",
       "      <th></th>\n",
       "      <th></th>\n",
       "      <th></th>\n",
       "      <th></th>\n",
       "      <th></th>\n",
       "      <th></th>\n",
       "      <th></th>\n",
       "      <th></th>\n",
       "      <th></th>\n",
       "      <th></th>\n",
       "      <th></th>\n",
       "      <th></th>\n",
       "      <th></th>\n",
       "    </tr>\n",
       "  </thead>\n",
       "  <tbody>\n",
       "    <tr>\n",
       "      <th>10</th>\n",
       "      <td>0.203327</td>\n",
       "      <td>0.132463</td>\n",
       "      <td>0.093324</td>\n",
       "      <td>0.092148</td>\n",
       "      <td>0.090634</td>\n",
       "      <td>0.103109</td>\n",
       "      <td>0.115218</td>\n",
       "      <td>0.101380</td>\n",
       "      <td>0.121355</td>\n",
       "      <td>0.180723</td>\n",
       "      <td>...</td>\n",
       "      <td>0.135390</td>\n",
       "      <td>0.127417</td>\n",
       "      <td>0.135268</td>\n",
       "      <td>0.172280</td>\n",
       "      <td>0.227387</td>\n",
       "      <td>0.223908</td>\n",
       "      <td>0.222226</td>\n",
       "      <td>0.212764</td>\n",
       "      <td>0.217319</td>\n",
       "      <td>4</td>\n",
       "    </tr>\n",
       "    <tr>\n",
       "      <th>13</th>\n",
       "      <td>0.194975</td>\n",
       "      <td>0.187350</td>\n",
       "      <td>0.185809</td>\n",
       "      <td>0.187204</td>\n",
       "      <td>0.187616</td>\n",
       "      <td>0.212004</td>\n",
       "      <td>0.220795</td>\n",
       "      <td>0.294712</td>\n",
       "      <td>0.322746</td>\n",
       "      <td>0.345115</td>\n",
       "      <td>...</td>\n",
       "      <td>0.298472</td>\n",
       "      <td>0.301187</td>\n",
       "      <td>0.274252</td>\n",
       "      <td>0.263036</td>\n",
       "      <td>0.248419</td>\n",
       "      <td>0.261428</td>\n",
       "      <td>0.246303</td>\n",
       "      <td>0.227137</td>\n",
       "      <td>0.221218</td>\n",
       "      <td>4</td>\n",
       "    </tr>\n",
       "    <tr>\n",
       "      <th>15</th>\n",
       "      <td>0.132049</td>\n",
       "      <td>0.085619</td>\n",
       "      <td>0.081748</td>\n",
       "      <td>0.083323</td>\n",
       "      <td>0.087667</td>\n",
       "      <td>0.102220</td>\n",
       "      <td>0.114530</td>\n",
       "      <td>0.197789</td>\n",
       "      <td>0.220750</td>\n",
       "      <td>0.173122</td>\n",
       "      <td>...</td>\n",
       "      <td>0.142623</td>\n",
       "      <td>0.136182</td>\n",
       "      <td>0.159548</td>\n",
       "      <td>0.197193</td>\n",
       "      <td>0.210143</td>\n",
       "      <td>0.251050</td>\n",
       "      <td>0.276016</td>\n",
       "      <td>0.239553</td>\n",
       "      <td>0.194609</td>\n",
       "      <td>4</td>\n",
       "    </tr>\n",
       "    <tr>\n",
       "      <th>25</th>\n",
       "      <td>0.208993</td>\n",
       "      <td>0.097976</td>\n",
       "      <td>0.070894</td>\n",
       "      <td>0.066551</td>\n",
       "      <td>0.066715</td>\n",
       "      <td>0.073661</td>\n",
       "      <td>0.083028</td>\n",
       "      <td>0.185265</td>\n",
       "      <td>0.198132</td>\n",
       "      <td>0.129820</td>\n",
       "      <td>...</td>\n",
       "      <td>0.142503</td>\n",
       "      <td>0.161035</td>\n",
       "      <td>0.181289</td>\n",
       "      <td>0.174503</td>\n",
       "      <td>0.226801</td>\n",
       "      <td>0.284312</td>\n",
       "      <td>0.274044</td>\n",
       "      <td>0.283920</td>\n",
       "      <td>0.238053</td>\n",
       "      <td>4</td>\n",
       "    </tr>\n",
       "    <tr>\n",
       "      <th>104</th>\n",
       "      <td>0.244747</td>\n",
       "      <td>0.218493</td>\n",
       "      <td>0.211883</td>\n",
       "      <td>0.207341</td>\n",
       "      <td>0.205384</td>\n",
       "      <td>0.209261</td>\n",
       "      <td>0.212252</td>\n",
       "      <td>0.216462</td>\n",
       "      <td>0.235553</td>\n",
       "      <td>0.186256</td>\n",
       "      <td>...</td>\n",
       "      <td>0.196448</td>\n",
       "      <td>0.195229</td>\n",
       "      <td>0.206824</td>\n",
       "      <td>0.233743</td>\n",
       "      <td>0.240833</td>\n",
       "      <td>0.286142</td>\n",
       "      <td>0.291274</td>\n",
       "      <td>0.288099</td>\n",
       "      <td>0.251542</td>\n",
       "      <td>4</td>\n",
       "    </tr>\n",
       "    <tr>\n",
       "      <th>147</th>\n",
       "      <td>0.168158</td>\n",
       "      <td>0.118820</td>\n",
       "      <td>0.114549</td>\n",
       "      <td>0.113886</td>\n",
       "      <td>0.101363</td>\n",
       "      <td>0.106759</td>\n",
       "      <td>0.131482</td>\n",
       "      <td>0.143757</td>\n",
       "      <td>0.157128</td>\n",
       "      <td>0.092419</td>\n",
       "      <td>...</td>\n",
       "      <td>0.115434</td>\n",
       "      <td>0.121432</td>\n",
       "      <td>0.134497</td>\n",
       "      <td>0.185813</td>\n",
       "      <td>0.252891</td>\n",
       "      <td>0.315724</td>\n",
       "      <td>0.345335</td>\n",
       "      <td>0.299607</td>\n",
       "      <td>0.252169</td>\n",
       "      <td>4</td>\n",
       "    </tr>\n",
       "    <tr>\n",
       "      <th>178</th>\n",
       "      <td>0.094279</td>\n",
       "      <td>0.067798</td>\n",
       "      <td>0.056322</td>\n",
       "      <td>0.055318</td>\n",
       "      <td>0.055942</td>\n",
       "      <td>0.054760</td>\n",
       "      <td>0.097003</td>\n",
       "      <td>0.084560</td>\n",
       "      <td>0.093341</td>\n",
       "      <td>0.091320</td>\n",
       "      <td>...</td>\n",
       "      <td>0.301819</td>\n",
       "      <td>0.282363</td>\n",
       "      <td>0.291182</td>\n",
       "      <td>0.324283</td>\n",
       "      <td>0.327469</td>\n",
       "      <td>0.308861</td>\n",
       "      <td>0.313435</td>\n",
       "      <td>0.319419</td>\n",
       "      <td>0.211771</td>\n",
       "      <td>4</td>\n",
       "    </tr>\n",
       "    <tr>\n",
       "      <th>244</th>\n",
       "      <td>0.246085</td>\n",
       "      <td>0.262823</td>\n",
       "      <td>0.249234</td>\n",
       "      <td>0.245809</td>\n",
       "      <td>0.211739</td>\n",
       "      <td>0.181704</td>\n",
       "      <td>0.173973</td>\n",
       "      <td>0.236484</td>\n",
       "      <td>0.212568</td>\n",
       "      <td>0.164736</td>\n",
       "      <td>...</td>\n",
       "      <td>0.164507</td>\n",
       "      <td>0.171982</td>\n",
       "      <td>0.182303</td>\n",
       "      <td>0.209576</td>\n",
       "      <td>0.235608</td>\n",
       "      <td>0.236421</td>\n",
       "      <td>0.242796</td>\n",
       "      <td>0.243057</td>\n",
       "      <td>0.236645</td>\n",
       "      <td>4</td>\n",
       "    </tr>\n",
       "    <tr>\n",
       "      <th>261</th>\n",
       "      <td>0.109617</td>\n",
       "      <td>0.044994</td>\n",
       "      <td>0.040532</td>\n",
       "      <td>0.047769</td>\n",
       "      <td>0.039014</td>\n",
       "      <td>0.034742</td>\n",
       "      <td>0.035324</td>\n",
       "      <td>0.127976</td>\n",
       "      <td>0.215642</td>\n",
       "      <td>0.160938</td>\n",
       "      <td>...</td>\n",
       "      <td>0.140754</td>\n",
       "      <td>0.131293</td>\n",
       "      <td>0.191971</td>\n",
       "      <td>0.241800</td>\n",
       "      <td>0.279415</td>\n",
       "      <td>0.317938</td>\n",
       "      <td>0.346491</td>\n",
       "      <td>0.294836</td>\n",
       "      <td>0.217684</td>\n",
       "      <td>4</td>\n",
       "    </tr>\n",
       "    <tr>\n",
       "      <th>269</th>\n",
       "      <td>0.200165</td>\n",
       "      <td>0.175732</td>\n",
       "      <td>0.171004</td>\n",
       "      <td>0.173625</td>\n",
       "      <td>0.184344</td>\n",
       "      <td>0.176949</td>\n",
       "      <td>0.189166</td>\n",
       "      <td>0.237300</td>\n",
       "      <td>0.297666</td>\n",
       "      <td>0.333489</td>\n",
       "      <td>...</td>\n",
       "      <td>0.246895</td>\n",
       "      <td>0.277336</td>\n",
       "      <td>0.282001</td>\n",
       "      <td>0.263169</td>\n",
       "      <td>0.258831</td>\n",
       "      <td>0.264760</td>\n",
       "      <td>0.251077</td>\n",
       "      <td>0.211618</td>\n",
       "      <td>0.213443</td>\n",
       "      <td>4</td>\n",
       "    </tr>\n",
       "    <tr>\n",
       "      <th>317</th>\n",
       "      <td>0.094062</td>\n",
       "      <td>0.088517</td>\n",
       "      <td>0.088182</td>\n",
       "      <td>0.088796</td>\n",
       "      <td>0.088145</td>\n",
       "      <td>0.087084</td>\n",
       "      <td>0.112949</td>\n",
       "      <td>0.211366</td>\n",
       "      <td>0.216297</td>\n",
       "      <td>0.271971</td>\n",
       "      <td>...</td>\n",
       "      <td>0.138479</td>\n",
       "      <td>0.118327</td>\n",
       "      <td>0.123072</td>\n",
       "      <td>0.204146</td>\n",
       "      <td>0.318063</td>\n",
       "      <td>0.311792</td>\n",
       "      <td>0.292365</td>\n",
       "      <td>0.287937</td>\n",
       "      <td>0.239017</td>\n",
       "      <td>4</td>\n",
       "    </tr>\n",
       "    <tr>\n",
       "      <th>322</th>\n",
       "      <td>0.112220</td>\n",
       "      <td>0.080142</td>\n",
       "      <td>0.085046</td>\n",
       "      <td>0.080634</td>\n",
       "      <td>0.085298</td>\n",
       "      <td>0.098992</td>\n",
       "      <td>0.103345</td>\n",
       "      <td>0.164222</td>\n",
       "      <td>0.181991</td>\n",
       "      <td>0.126373</td>\n",
       "      <td>...</td>\n",
       "      <td>0.154389</td>\n",
       "      <td>0.126749</td>\n",
       "      <td>0.145165</td>\n",
       "      <td>0.191921</td>\n",
       "      <td>0.245103</td>\n",
       "      <td>0.283250</td>\n",
       "      <td>0.248517</td>\n",
       "      <td>0.259457</td>\n",
       "      <td>0.222502</td>\n",
       "      <td>4</td>\n",
       "    </tr>\n",
       "    <tr>\n",
       "      <th>374</th>\n",
       "      <td>0.131985</td>\n",
       "      <td>0.095732</td>\n",
       "      <td>0.088558</td>\n",
       "      <td>0.083312</td>\n",
       "      <td>0.082785</td>\n",
       "      <td>0.085339</td>\n",
       "      <td>0.116228</td>\n",
       "      <td>0.133267</td>\n",
       "      <td>0.149110</td>\n",
       "      <td>0.148497</td>\n",
       "      <td>...</td>\n",
       "      <td>0.269577</td>\n",
       "      <td>0.259621</td>\n",
       "      <td>0.467516</td>\n",
       "      <td>0.295324</td>\n",
       "      <td>0.243028</td>\n",
       "      <td>0.260955</td>\n",
       "      <td>0.244547</td>\n",
       "      <td>0.206495</td>\n",
       "      <td>0.196292</td>\n",
       "      <td>4</td>\n",
       "    </tr>\n",
       "    <tr>\n",
       "      <th>469</th>\n",
       "      <td>0.102987</td>\n",
       "      <td>0.076054</td>\n",
       "      <td>0.057082</td>\n",
       "      <td>0.048989</td>\n",
       "      <td>0.047226</td>\n",
       "      <td>0.047978</td>\n",
       "      <td>0.112325</td>\n",
       "      <td>0.279192</td>\n",
       "      <td>0.196068</td>\n",
       "      <td>0.118200</td>\n",
       "      <td>...</td>\n",
       "      <td>0.194002</td>\n",
       "      <td>0.205349</td>\n",
       "      <td>0.194381</td>\n",
       "      <td>0.211047</td>\n",
       "      <td>0.256574</td>\n",
       "      <td>0.300179</td>\n",
       "      <td>0.281207</td>\n",
       "      <td>0.273689</td>\n",
       "      <td>0.184462</td>\n",
       "      <td>4</td>\n",
       "    </tr>\n",
       "    <tr>\n",
       "      <th>480</th>\n",
       "      <td>0.135073</td>\n",
       "      <td>0.115461</td>\n",
       "      <td>0.115369</td>\n",
       "      <td>0.115873</td>\n",
       "      <td>0.116270</td>\n",
       "      <td>0.122451</td>\n",
       "      <td>0.156212</td>\n",
       "      <td>0.201679</td>\n",
       "      <td>0.271566</td>\n",
       "      <td>0.251419</td>\n",
       "      <td>...</td>\n",
       "      <td>0.245177</td>\n",
       "      <td>0.262790</td>\n",
       "      <td>0.283700</td>\n",
       "      <td>0.405250</td>\n",
       "      <td>0.405769</td>\n",
       "      <td>0.402030</td>\n",
       "      <td>0.408074</td>\n",
       "      <td>0.319918</td>\n",
       "      <td>0.199847</td>\n",
       "      <td>4</td>\n",
       "    </tr>\n",
       "    <tr>\n",
       "      <th>518</th>\n",
       "      <td>0.151623</td>\n",
       "      <td>0.129083</td>\n",
       "      <td>0.127344</td>\n",
       "      <td>0.126131</td>\n",
       "      <td>0.124798</td>\n",
       "      <td>0.124812</td>\n",
       "      <td>0.281928</td>\n",
       "      <td>0.179587</td>\n",
       "      <td>0.181529</td>\n",
       "      <td>0.201818</td>\n",
       "      <td>...</td>\n",
       "      <td>0.178646</td>\n",
       "      <td>0.179781</td>\n",
       "      <td>0.189582</td>\n",
       "      <td>0.247083</td>\n",
       "      <td>0.236498</td>\n",
       "      <td>0.260804</td>\n",
       "      <td>0.239888</td>\n",
       "      <td>0.234639</td>\n",
       "      <td>0.190772</td>\n",
       "      <td>4</td>\n",
       "    </tr>\n",
       "    <tr>\n",
       "      <th>558</th>\n",
       "      <td>0.125021</td>\n",
       "      <td>0.081345</td>\n",
       "      <td>0.073226</td>\n",
       "      <td>0.071695</td>\n",
       "      <td>0.070680</td>\n",
       "      <td>0.124538</td>\n",
       "      <td>0.256680</td>\n",
       "      <td>0.266863</td>\n",
       "      <td>0.174786</td>\n",
       "      <td>0.127650</td>\n",
       "      <td>...</td>\n",
       "      <td>0.213936</td>\n",
       "      <td>0.175518</td>\n",
       "      <td>0.228645</td>\n",
       "      <td>0.315913</td>\n",
       "      <td>0.498469</td>\n",
       "      <td>0.333001</td>\n",
       "      <td>0.349922</td>\n",
       "      <td>0.287611</td>\n",
       "      <td>0.179528</td>\n",
       "      <td>4</td>\n",
       "    </tr>\n",
       "    <tr>\n",
       "      <th>581</th>\n",
       "      <td>0.160863</td>\n",
       "      <td>0.153411</td>\n",
       "      <td>0.145575</td>\n",
       "      <td>0.145895</td>\n",
       "      <td>0.143760</td>\n",
       "      <td>0.142522</td>\n",
       "      <td>0.176044</td>\n",
       "      <td>0.175659</td>\n",
       "      <td>0.174805</td>\n",
       "      <td>0.167716</td>\n",
       "      <td>...</td>\n",
       "      <td>0.181915</td>\n",
       "      <td>0.188086</td>\n",
       "      <td>0.203907</td>\n",
       "      <td>0.232561</td>\n",
       "      <td>0.259144</td>\n",
       "      <td>0.233052</td>\n",
       "      <td>0.201665</td>\n",
       "      <td>0.181659</td>\n",
       "      <td>0.182129</td>\n",
       "      <td>4</td>\n",
       "    </tr>\n",
       "    <tr>\n",
       "      <th>597</th>\n",
       "      <td>0.114985</td>\n",
       "      <td>0.099502</td>\n",
       "      <td>0.085823</td>\n",
       "      <td>0.081129</td>\n",
       "      <td>0.085026</td>\n",
       "      <td>0.139604</td>\n",
       "      <td>0.233569</td>\n",
       "      <td>0.245748</td>\n",
       "      <td>0.177287</td>\n",
       "      <td>0.154610</td>\n",
       "      <td>...</td>\n",
       "      <td>0.203192</td>\n",
       "      <td>0.170627</td>\n",
       "      <td>0.209735</td>\n",
       "      <td>0.285728</td>\n",
       "      <td>0.365310</td>\n",
       "      <td>0.374203</td>\n",
       "      <td>0.245045</td>\n",
       "      <td>0.192351</td>\n",
       "      <td>0.162624</td>\n",
       "      <td>4</td>\n",
       "    </tr>\n",
       "    <tr>\n",
       "      <th>602</th>\n",
       "      <td>0.083970</td>\n",
       "      <td>0.059651</td>\n",
       "      <td>0.057800</td>\n",
       "      <td>0.057314</td>\n",
       "      <td>0.058008</td>\n",
       "      <td>0.157920</td>\n",
       "      <td>0.172648</td>\n",
       "      <td>0.176767</td>\n",
       "      <td>0.140069</td>\n",
       "      <td>0.142996</td>\n",
       "      <td>...</td>\n",
       "      <td>0.162293</td>\n",
       "      <td>0.166644</td>\n",
       "      <td>0.208744</td>\n",
       "      <td>0.237239</td>\n",
       "      <td>0.282938</td>\n",
       "      <td>0.330788</td>\n",
       "      <td>0.368400</td>\n",
       "      <td>0.268256</td>\n",
       "      <td>0.141712</td>\n",
       "      <td>4</td>\n",
       "    </tr>\n",
       "    <tr>\n",
       "      <th>614</th>\n",
       "      <td>0.168953</td>\n",
       "      <td>0.119635</td>\n",
       "      <td>0.100610</td>\n",
       "      <td>0.093726</td>\n",
       "      <td>0.093762</td>\n",
       "      <td>0.097602</td>\n",
       "      <td>0.116717</td>\n",
       "      <td>0.136483</td>\n",
       "      <td>0.144378</td>\n",
       "      <td>0.179599</td>\n",
       "      <td>...</td>\n",
       "      <td>0.202620</td>\n",
       "      <td>0.199677</td>\n",
       "      <td>0.198098</td>\n",
       "      <td>0.207392</td>\n",
       "      <td>0.219444</td>\n",
       "      <td>0.259354</td>\n",
       "      <td>0.243008</td>\n",
       "      <td>0.241089</td>\n",
       "      <td>0.222147</td>\n",
       "      <td>4</td>\n",
       "    </tr>\n",
       "    <tr>\n",
       "      <th>637</th>\n",
       "      <td>0.059999</td>\n",
       "      <td>0.049087</td>\n",
       "      <td>0.047399</td>\n",
       "      <td>0.047188</td>\n",
       "      <td>0.046879</td>\n",
       "      <td>0.046132</td>\n",
       "      <td>0.104378</td>\n",
       "      <td>0.118424</td>\n",
       "      <td>0.136594</td>\n",
       "      <td>0.121103</td>\n",
       "      <td>...</td>\n",
       "      <td>0.154439</td>\n",
       "      <td>0.222931</td>\n",
       "      <td>0.250991</td>\n",
       "      <td>0.406453</td>\n",
       "      <td>0.350643</td>\n",
       "      <td>0.351845</td>\n",
       "      <td>0.316884</td>\n",
       "      <td>0.242466</td>\n",
       "      <td>0.131382</td>\n",
       "      <td>4</td>\n",
       "    </tr>\n",
       "    <tr>\n",
       "      <th>655</th>\n",
       "      <td>0.245851</td>\n",
       "      <td>0.073567</td>\n",
       "      <td>0.072330</td>\n",
       "      <td>0.069934</td>\n",
       "      <td>0.068852</td>\n",
       "      <td>0.067821</td>\n",
       "      <td>0.068981</td>\n",
       "      <td>0.072227</td>\n",
       "      <td>0.179705</td>\n",
       "      <td>0.100804</td>\n",
       "      <td>...</td>\n",
       "      <td>0.072382</td>\n",
       "      <td>0.099541</td>\n",
       "      <td>0.187899</td>\n",
       "      <td>0.432617</td>\n",
       "      <td>0.392342</td>\n",
       "      <td>0.362657</td>\n",
       "      <td>0.373609</td>\n",
       "      <td>0.372758</td>\n",
       "      <td>0.370568</td>\n",
       "      <td>4</td>\n",
       "    </tr>\n",
       "    <tr>\n",
       "      <th>684</th>\n",
       "      <td>0.130465</td>\n",
       "      <td>0.095174</td>\n",
       "      <td>0.093049</td>\n",
       "      <td>0.096156</td>\n",
       "      <td>0.088548</td>\n",
       "      <td>0.092636</td>\n",
       "      <td>0.095325</td>\n",
       "      <td>0.122927</td>\n",
       "      <td>0.178455</td>\n",
       "      <td>0.209303</td>\n",
       "      <td>...</td>\n",
       "      <td>0.180058</td>\n",
       "      <td>0.199646</td>\n",
       "      <td>0.208101</td>\n",
       "      <td>0.262009</td>\n",
       "      <td>0.279762</td>\n",
       "      <td>0.236272</td>\n",
       "      <td>0.227416</td>\n",
       "      <td>0.216672</td>\n",
       "      <td>0.179495</td>\n",
       "      <td>4</td>\n",
       "    </tr>\n",
       "    <tr>\n",
       "      <th>692</th>\n",
       "      <td>0.093163</td>\n",
       "      <td>0.070595</td>\n",
       "      <td>0.067991</td>\n",
       "      <td>0.066967</td>\n",
       "      <td>0.066124</td>\n",
       "      <td>0.070472</td>\n",
       "      <td>0.199150</td>\n",
       "      <td>0.194114</td>\n",
       "      <td>0.158919</td>\n",
       "      <td>0.110122</td>\n",
       "      <td>...</td>\n",
       "      <td>0.127351</td>\n",
       "      <td>0.181004</td>\n",
       "      <td>0.213906</td>\n",
       "      <td>0.271383</td>\n",
       "      <td>0.349192</td>\n",
       "      <td>0.419402</td>\n",
       "      <td>0.385583</td>\n",
       "      <td>0.277008</td>\n",
       "      <td>0.181585</td>\n",
       "      <td>4</td>\n",
       "    </tr>\n",
       "    <tr>\n",
       "      <th>1002</th>\n",
       "      <td>0.155721</td>\n",
       "      <td>0.135922</td>\n",
       "      <td>0.132262</td>\n",
       "      <td>0.129143</td>\n",
       "      <td>0.127585</td>\n",
       "      <td>0.139918</td>\n",
       "      <td>0.163473</td>\n",
       "      <td>0.197738</td>\n",
       "      <td>0.240373</td>\n",
       "      <td>0.245386</td>\n",
       "      <td>...</td>\n",
       "      <td>0.185537</td>\n",
       "      <td>0.176246</td>\n",
       "      <td>0.194588</td>\n",
       "      <td>0.208876</td>\n",
       "      <td>0.214939</td>\n",
       "      <td>0.215241</td>\n",
       "      <td>0.210205</td>\n",
       "      <td>0.202306</td>\n",
       "      <td>0.178526</td>\n",
       "      <td>4</td>\n",
       "    </tr>\n",
       "    <tr>\n",
       "      <th>1007</th>\n",
       "      <td>0.182978</td>\n",
       "      <td>0.142846</td>\n",
       "      <td>0.120145</td>\n",
       "      <td>0.102326</td>\n",
       "      <td>0.099987</td>\n",
       "      <td>0.102818</td>\n",
       "      <td>0.118458</td>\n",
       "      <td>0.154435</td>\n",
       "      <td>0.217351</td>\n",
       "      <td>0.269755</td>\n",
       "      <td>...</td>\n",
       "      <td>0.203558</td>\n",
       "      <td>0.239263</td>\n",
       "      <td>0.211983</td>\n",
       "      <td>0.232849</td>\n",
       "      <td>0.306165</td>\n",
       "      <td>0.362929</td>\n",
       "      <td>0.367340</td>\n",
       "      <td>0.298506</td>\n",
       "      <td>0.248548</td>\n",
       "      <td>4</td>\n",
       "    </tr>\n",
       "    <tr>\n",
       "      <th>1013</th>\n",
       "      <td>0.241536</td>\n",
       "      <td>0.173765</td>\n",
       "      <td>0.138758</td>\n",
       "      <td>0.133863</td>\n",
       "      <td>0.132707</td>\n",
       "      <td>0.129723</td>\n",
       "      <td>0.134733</td>\n",
       "      <td>0.174614</td>\n",
       "      <td>0.267896</td>\n",
       "      <td>0.248849</td>\n",
       "      <td>...</td>\n",
       "      <td>0.185488</td>\n",
       "      <td>0.221587</td>\n",
       "      <td>0.233512</td>\n",
       "      <td>0.268472</td>\n",
       "      <td>0.339311</td>\n",
       "      <td>0.354212</td>\n",
       "      <td>0.361355</td>\n",
       "      <td>0.336080</td>\n",
       "      <td>0.303462</td>\n",
       "      <td>4</td>\n",
       "    </tr>\n",
       "    <tr>\n",
       "      <th>1016</th>\n",
       "      <td>0.146629</td>\n",
       "      <td>0.113626</td>\n",
       "      <td>0.100427</td>\n",
       "      <td>0.092221</td>\n",
       "      <td>0.088492</td>\n",
       "      <td>0.091810</td>\n",
       "      <td>0.108195</td>\n",
       "      <td>0.130904</td>\n",
       "      <td>0.213457</td>\n",
       "      <td>0.245129</td>\n",
       "      <td>...</td>\n",
       "      <td>0.218519</td>\n",
       "      <td>0.170747</td>\n",
       "      <td>0.213932</td>\n",
       "      <td>0.240154</td>\n",
       "      <td>0.237990</td>\n",
       "      <td>0.223753</td>\n",
       "      <td>0.250711</td>\n",
       "      <td>0.256246</td>\n",
       "      <td>0.185699</td>\n",
       "      <td>4</td>\n",
       "    </tr>\n",
       "    <tr>\n",
       "      <th>1022</th>\n",
       "      <td>0.205129</td>\n",
       "      <td>0.142080</td>\n",
       "      <td>0.094805</td>\n",
       "      <td>0.072781</td>\n",
       "      <td>0.076142</td>\n",
       "      <td>0.076951</td>\n",
       "      <td>0.082745</td>\n",
       "      <td>0.097328</td>\n",
       "      <td>0.178432</td>\n",
       "      <td>0.125627</td>\n",
       "      <td>...</td>\n",
       "      <td>0.172370</td>\n",
       "      <td>0.179255</td>\n",
       "      <td>0.173325</td>\n",
       "      <td>0.214543</td>\n",
       "      <td>0.251468</td>\n",
       "      <td>0.301171</td>\n",
       "      <td>0.305500</td>\n",
       "      <td>0.292172</td>\n",
       "      <td>0.248112</td>\n",
       "      <td>4</td>\n",
       "    </tr>\n",
       "    <tr>\n",
       "      <th>1094</th>\n",
       "      <td>0.123701</td>\n",
       "      <td>0.078975</td>\n",
       "      <td>0.067908</td>\n",
       "      <td>0.053907</td>\n",
       "      <td>0.042397</td>\n",
       "      <td>0.055013</td>\n",
       "      <td>0.066604</td>\n",
       "      <td>0.192523</td>\n",
       "      <td>0.130841</td>\n",
       "      <td>0.144435</td>\n",
       "      <td>...</td>\n",
       "      <td>0.152392</td>\n",
       "      <td>0.138691</td>\n",
       "      <td>0.167301</td>\n",
       "      <td>0.220508</td>\n",
       "      <td>0.247948</td>\n",
       "      <td>0.267351</td>\n",
       "      <td>0.327772</td>\n",
       "      <td>0.295817</td>\n",
       "      <td>0.201853</td>\n",
       "      <td>4</td>\n",
       "    </tr>\n",
       "    <tr>\n",
       "      <th>1317</th>\n",
       "      <td>0.239293</td>\n",
       "      <td>0.150510</td>\n",
       "      <td>0.102013</td>\n",
       "      <td>0.079918</td>\n",
       "      <td>0.069892</td>\n",
       "      <td>0.067359</td>\n",
       "      <td>0.090366</td>\n",
       "      <td>0.107002</td>\n",
       "      <td>0.067446</td>\n",
       "      <td>0.057391</td>\n",
       "      <td>...</td>\n",
       "      <td>0.209888</td>\n",
       "      <td>0.204985</td>\n",
       "      <td>0.224749</td>\n",
       "      <td>0.218513</td>\n",
       "      <td>0.258491</td>\n",
       "      <td>0.319480</td>\n",
       "      <td>0.300579</td>\n",
       "      <td>0.322473</td>\n",
       "      <td>0.321686</td>\n",
       "      <td>4</td>\n",
       "    </tr>\n",
       "    <tr>\n",
       "      <th>1319</th>\n",
       "      <td>0.120266</td>\n",
       "      <td>0.075543</td>\n",
       "      <td>0.074473</td>\n",
       "      <td>0.074979</td>\n",
       "      <td>0.069356</td>\n",
       "      <td>0.069677</td>\n",
       "      <td>0.176809</td>\n",
       "      <td>0.234500</td>\n",
       "      <td>0.146523</td>\n",
       "      <td>0.111627</td>\n",
       "      <td>...</td>\n",
       "      <td>0.160786</td>\n",
       "      <td>0.177801</td>\n",
       "      <td>0.233011</td>\n",
       "      <td>0.368308</td>\n",
       "      <td>0.352032</td>\n",
       "      <td>0.344142</td>\n",
       "      <td>0.304313</td>\n",
       "      <td>0.272529</td>\n",
       "      <td>0.191791</td>\n",
       "      <td>4</td>\n",
       "    </tr>\n",
       "    <tr>\n",
       "      <th>1325</th>\n",
       "      <td>0.079502</td>\n",
       "      <td>0.075547</td>\n",
       "      <td>0.076293</td>\n",
       "      <td>0.075777</td>\n",
       "      <td>0.080362</td>\n",
       "      <td>0.115385</td>\n",
       "      <td>0.163132</td>\n",
       "      <td>0.134759</td>\n",
       "      <td>0.082082</td>\n",
       "      <td>0.076465</td>\n",
       "      <td>...</td>\n",
       "      <td>0.075719</td>\n",
       "      <td>0.078700</td>\n",
       "      <td>0.214204</td>\n",
       "      <td>0.430700</td>\n",
       "      <td>0.493294</td>\n",
       "      <td>0.554511</td>\n",
       "      <td>0.551129</td>\n",
       "      <td>0.217471</td>\n",
       "      <td>0.094062</td>\n",
       "      <td>4</td>\n",
       "    </tr>\n",
       "    <tr>\n",
       "      <th>1330</th>\n",
       "      <td>0.102786</td>\n",
       "      <td>0.091603</td>\n",
       "      <td>0.081811</td>\n",
       "      <td>0.090255</td>\n",
       "      <td>0.086670</td>\n",
       "      <td>0.078330</td>\n",
       "      <td>0.085974</td>\n",
       "      <td>0.112355</td>\n",
       "      <td>0.212920</td>\n",
       "      <td>0.192315</td>\n",
       "      <td>...</td>\n",
       "      <td>0.162349</td>\n",
       "      <td>0.180257</td>\n",
       "      <td>0.228962</td>\n",
       "      <td>0.240161</td>\n",
       "      <td>0.278985</td>\n",
       "      <td>0.272838</td>\n",
       "      <td>0.270675</td>\n",
       "      <td>0.275948</td>\n",
       "      <td>0.200818</td>\n",
       "      <td>4</td>\n",
       "    </tr>\n",
       "    <tr>\n",
       "      <th>1354</th>\n",
       "      <td>0.249182</td>\n",
       "      <td>0.133939</td>\n",
       "      <td>0.117303</td>\n",
       "      <td>0.112174</td>\n",
       "      <td>0.097113</td>\n",
       "      <td>0.083142</td>\n",
       "      <td>0.076963</td>\n",
       "      <td>0.077529</td>\n",
       "      <td>0.083222</td>\n",
       "      <td>0.092550</td>\n",
       "      <td>...</td>\n",
       "      <td>0.098526</td>\n",
       "      <td>0.165314</td>\n",
       "      <td>0.240541</td>\n",
       "      <td>0.305431</td>\n",
       "      <td>0.306400</td>\n",
       "      <td>0.330749</td>\n",
       "      <td>0.347628</td>\n",
       "      <td>0.363456</td>\n",
       "      <td>0.314395</td>\n",
       "      <td>4</td>\n",
       "    </tr>\n",
       "    <tr>\n",
       "      <th>1359</th>\n",
       "      <td>0.130000</td>\n",
       "      <td>0.116281</td>\n",
       "      <td>0.119875</td>\n",
       "      <td>0.117453</td>\n",
       "      <td>0.118203</td>\n",
       "      <td>0.128656</td>\n",
       "      <td>0.235094</td>\n",
       "      <td>0.196063</td>\n",
       "      <td>0.165766</td>\n",
       "      <td>0.155250</td>\n",
       "      <td>...</td>\n",
       "      <td>0.262031</td>\n",
       "      <td>0.209625</td>\n",
       "      <td>0.233719</td>\n",
       "      <td>0.290469</td>\n",
       "      <td>0.268297</td>\n",
       "      <td>0.294344</td>\n",
       "      <td>0.282375</td>\n",
       "      <td>0.233125</td>\n",
       "      <td>0.158234</td>\n",
       "      <td>4</td>\n",
       "    </tr>\n",
       "  </tbody>\n",
       "</table>\n",
       "<p>37 rows × 25 columns</p>\n",
       "</div>"
      ],
      "text/plain": [
       "hour             0         1         2         3         4         5  \\\n",
       "Fall_ge1                                                               \n",
       "10        0.203327  0.132463  0.093324  0.092148  0.090634  0.103109   \n",
       "13        0.194975  0.187350  0.185809  0.187204  0.187616  0.212004   \n",
       "15        0.132049  0.085619  0.081748  0.083323  0.087667  0.102220   \n",
       "25        0.208993  0.097976  0.070894  0.066551  0.066715  0.073661   \n",
       "104       0.244747  0.218493  0.211883  0.207341  0.205384  0.209261   \n",
       "147       0.168158  0.118820  0.114549  0.113886  0.101363  0.106759   \n",
       "178       0.094279  0.067798  0.056322  0.055318  0.055942  0.054760   \n",
       "244       0.246085  0.262823  0.249234  0.245809  0.211739  0.181704   \n",
       "261       0.109617  0.044994  0.040532  0.047769  0.039014  0.034742   \n",
       "269       0.200165  0.175732  0.171004  0.173625  0.184344  0.176949   \n",
       "317       0.094062  0.088517  0.088182  0.088796  0.088145  0.087084   \n",
       "322       0.112220  0.080142  0.085046  0.080634  0.085298  0.098992   \n",
       "374       0.131985  0.095732  0.088558  0.083312  0.082785  0.085339   \n",
       "469       0.102987  0.076054  0.057082  0.048989  0.047226  0.047978   \n",
       "480       0.135073  0.115461  0.115369  0.115873  0.116270  0.122451   \n",
       "518       0.151623  0.129083  0.127344  0.126131  0.124798  0.124812   \n",
       "558       0.125021  0.081345  0.073226  0.071695  0.070680  0.124538   \n",
       "581       0.160863  0.153411  0.145575  0.145895  0.143760  0.142522   \n",
       "597       0.114985  0.099502  0.085823  0.081129  0.085026  0.139604   \n",
       "602       0.083970  0.059651  0.057800  0.057314  0.058008  0.157920   \n",
       "614       0.168953  0.119635  0.100610  0.093726  0.093762  0.097602   \n",
       "637       0.059999  0.049087  0.047399  0.047188  0.046879  0.046132   \n",
       "655       0.245851  0.073567  0.072330  0.069934  0.068852  0.067821   \n",
       "684       0.130465  0.095174  0.093049  0.096156  0.088548  0.092636   \n",
       "692       0.093163  0.070595  0.067991  0.066967  0.066124  0.070472   \n",
       "1002      0.155721  0.135922  0.132262  0.129143  0.127585  0.139918   \n",
       "1007      0.182978  0.142846  0.120145  0.102326  0.099987  0.102818   \n",
       "1013      0.241536  0.173765  0.138758  0.133863  0.132707  0.129723   \n",
       "1016      0.146629  0.113626  0.100427  0.092221  0.088492  0.091810   \n",
       "1022      0.205129  0.142080  0.094805  0.072781  0.076142  0.076951   \n",
       "1094      0.123701  0.078975  0.067908  0.053907  0.042397  0.055013   \n",
       "1317      0.239293  0.150510  0.102013  0.079918  0.069892  0.067359   \n",
       "1319      0.120266  0.075543  0.074473  0.074979  0.069356  0.069677   \n",
       "1325      0.079502  0.075547  0.076293  0.075777  0.080362  0.115385   \n",
       "1330      0.102786  0.091603  0.081811  0.090255  0.086670  0.078330   \n",
       "1354      0.249182  0.133939  0.117303  0.112174  0.097113  0.083142   \n",
       "1359      0.130000  0.116281  0.119875  0.117453  0.118203  0.128656   \n",
       "\n",
       "hour             6         7         8         9  ...        15        16  \\\n",
       "Fall_ge1                                          ...                       \n",
       "10        0.115218  0.101380  0.121355  0.180723  ...  0.135390  0.127417   \n",
       "13        0.220795  0.294712  0.322746  0.345115  ...  0.298472  0.301187   \n",
       "15        0.114530  0.197789  0.220750  0.173122  ...  0.142623  0.136182   \n",
       "25        0.083028  0.185265  0.198132  0.129820  ...  0.142503  0.161035   \n",
       "104       0.212252  0.216462  0.235553  0.186256  ...  0.196448  0.195229   \n",
       "147       0.131482  0.143757  0.157128  0.092419  ...  0.115434  0.121432   \n",
       "178       0.097003  0.084560  0.093341  0.091320  ...  0.301819  0.282363   \n",
       "244       0.173973  0.236484  0.212568  0.164736  ...  0.164507  0.171982   \n",
       "261       0.035324  0.127976  0.215642  0.160938  ...  0.140754  0.131293   \n",
       "269       0.189166  0.237300  0.297666  0.333489  ...  0.246895  0.277336   \n",
       "317       0.112949  0.211366  0.216297  0.271971  ...  0.138479  0.118327   \n",
       "322       0.103345  0.164222  0.181991  0.126373  ...  0.154389  0.126749   \n",
       "374       0.116228  0.133267  0.149110  0.148497  ...  0.269577  0.259621   \n",
       "469       0.112325  0.279192  0.196068  0.118200  ...  0.194002  0.205349   \n",
       "480       0.156212  0.201679  0.271566  0.251419  ...  0.245177  0.262790   \n",
       "518       0.281928  0.179587  0.181529  0.201818  ...  0.178646  0.179781   \n",
       "558       0.256680  0.266863  0.174786  0.127650  ...  0.213936  0.175518   \n",
       "581       0.176044  0.175659  0.174805  0.167716  ...  0.181915  0.188086   \n",
       "597       0.233569  0.245748  0.177287  0.154610  ...  0.203192  0.170627   \n",
       "602       0.172648  0.176767  0.140069  0.142996  ...  0.162293  0.166644   \n",
       "614       0.116717  0.136483  0.144378  0.179599  ...  0.202620  0.199677   \n",
       "637       0.104378  0.118424  0.136594  0.121103  ...  0.154439  0.222931   \n",
       "655       0.068981  0.072227  0.179705  0.100804  ...  0.072382  0.099541   \n",
       "684       0.095325  0.122927  0.178455  0.209303  ...  0.180058  0.199646   \n",
       "692       0.199150  0.194114  0.158919  0.110122  ...  0.127351  0.181004   \n",
       "1002      0.163473  0.197738  0.240373  0.245386  ...  0.185537  0.176246   \n",
       "1007      0.118458  0.154435  0.217351  0.269755  ...  0.203558  0.239263   \n",
       "1013      0.134733  0.174614  0.267896  0.248849  ...  0.185488  0.221587   \n",
       "1016      0.108195  0.130904  0.213457  0.245129  ...  0.218519  0.170747   \n",
       "1022      0.082745  0.097328  0.178432  0.125627  ...  0.172370  0.179255   \n",
       "1094      0.066604  0.192523  0.130841  0.144435  ...  0.152392  0.138691   \n",
       "1317      0.090366  0.107002  0.067446  0.057391  ...  0.209888  0.204985   \n",
       "1319      0.176809  0.234500  0.146523  0.111627  ...  0.160786  0.177801   \n",
       "1325      0.163132  0.134759  0.082082  0.076465  ...  0.075719  0.078700   \n",
       "1330      0.085974  0.112355  0.212920  0.192315  ...  0.162349  0.180257   \n",
       "1354      0.076963  0.077529  0.083222  0.092550  ...  0.098526  0.165314   \n",
       "1359      0.235094  0.196063  0.165766  0.155250  ...  0.262031  0.209625   \n",
       "\n",
       "hour            17        18        19        20        21        22  \\\n",
       "Fall_ge1                                                               \n",
       "10        0.135268  0.172280  0.227387  0.223908  0.222226  0.212764   \n",
       "13        0.274252  0.263036  0.248419  0.261428  0.246303  0.227137   \n",
       "15        0.159548  0.197193  0.210143  0.251050  0.276016  0.239553   \n",
       "25        0.181289  0.174503  0.226801  0.284312  0.274044  0.283920   \n",
       "104       0.206824  0.233743  0.240833  0.286142  0.291274  0.288099   \n",
       "147       0.134497  0.185813  0.252891  0.315724  0.345335  0.299607   \n",
       "178       0.291182  0.324283  0.327469  0.308861  0.313435  0.319419   \n",
       "244       0.182303  0.209576  0.235608  0.236421  0.242796  0.243057   \n",
       "261       0.191971  0.241800  0.279415  0.317938  0.346491  0.294836   \n",
       "269       0.282001  0.263169  0.258831  0.264760  0.251077  0.211618   \n",
       "317       0.123072  0.204146  0.318063  0.311792  0.292365  0.287937   \n",
       "322       0.145165  0.191921  0.245103  0.283250  0.248517  0.259457   \n",
       "374       0.467516  0.295324  0.243028  0.260955  0.244547  0.206495   \n",
       "469       0.194381  0.211047  0.256574  0.300179  0.281207  0.273689   \n",
       "480       0.283700  0.405250  0.405769  0.402030  0.408074  0.319918   \n",
       "518       0.189582  0.247083  0.236498  0.260804  0.239888  0.234639   \n",
       "558       0.228645  0.315913  0.498469  0.333001  0.349922  0.287611   \n",
       "581       0.203907  0.232561  0.259144  0.233052  0.201665  0.181659   \n",
       "597       0.209735  0.285728  0.365310  0.374203  0.245045  0.192351   \n",
       "602       0.208744  0.237239  0.282938  0.330788  0.368400  0.268256   \n",
       "614       0.198098  0.207392  0.219444  0.259354  0.243008  0.241089   \n",
       "637       0.250991  0.406453  0.350643  0.351845  0.316884  0.242466   \n",
       "655       0.187899  0.432617  0.392342  0.362657  0.373609  0.372758   \n",
       "684       0.208101  0.262009  0.279762  0.236272  0.227416  0.216672   \n",
       "692       0.213906  0.271383  0.349192  0.419402  0.385583  0.277008   \n",
       "1002      0.194588  0.208876  0.214939  0.215241  0.210205  0.202306   \n",
       "1007      0.211983  0.232849  0.306165  0.362929  0.367340  0.298506   \n",
       "1013      0.233512  0.268472  0.339311  0.354212  0.361355  0.336080   \n",
       "1016      0.213932  0.240154  0.237990  0.223753  0.250711  0.256246   \n",
       "1022      0.173325  0.214543  0.251468  0.301171  0.305500  0.292172   \n",
       "1094      0.167301  0.220508  0.247948  0.267351  0.327772  0.295817   \n",
       "1317      0.224749  0.218513  0.258491  0.319480  0.300579  0.322473   \n",
       "1319      0.233011  0.368308  0.352032  0.344142  0.304313  0.272529   \n",
       "1325      0.214204  0.430700  0.493294  0.554511  0.551129  0.217471   \n",
       "1330      0.228962  0.240161  0.278985  0.272838  0.270675  0.275948   \n",
       "1354      0.240541  0.305431  0.306400  0.330749  0.347628  0.363456   \n",
       "1359      0.233719  0.290469  0.268297  0.294344  0.282375  0.233125   \n",
       "\n",
       "hour            23  cluster  \n",
       "Fall_ge1                     \n",
       "10        0.217319        4  \n",
       "13        0.221218        4  \n",
       "15        0.194609        4  \n",
       "25        0.238053        4  \n",
       "104       0.251542        4  \n",
       "147       0.252169        4  \n",
       "178       0.211771        4  \n",
       "244       0.236645        4  \n",
       "261       0.217684        4  \n",
       "269       0.213443        4  \n",
       "317       0.239017        4  \n",
       "322       0.222502        4  \n",
       "374       0.196292        4  \n",
       "469       0.184462        4  \n",
       "480       0.199847        4  \n",
       "518       0.190772        4  \n",
       "558       0.179528        4  \n",
       "581       0.182129        4  \n",
       "597       0.162624        4  \n",
       "602       0.141712        4  \n",
       "614       0.222147        4  \n",
       "637       0.131382        4  \n",
       "655       0.370568        4  \n",
       "684       0.179495        4  \n",
       "692       0.181585        4  \n",
       "1002      0.178526        4  \n",
       "1007      0.248548        4  \n",
       "1013      0.303462        4  \n",
       "1016      0.185699        4  \n",
       "1022      0.248112        4  \n",
       "1094      0.201853        4  \n",
       "1317      0.321686        4  \n",
       "1319      0.191791        4  \n",
       "1325      0.094062        4  \n",
       "1330      0.200818        4  \n",
       "1354      0.314395        4  \n",
       "1359      0.158234        4  \n",
       "\n",
       "[37 rows x 25 columns]"
      ]
     },
     "execution_count": 37,
     "metadata": {},
     "output_type": "execute_result"
    }
   ],
   "source": [
    "kmeans_df[kmeans_df[\"cluster\"]==4]"
   ]
  },
  {
   "cell_type": "markdown",
   "metadata": {},
   "source": [
    "### Fall weekend "
   ]
  },
  {
   "cell_type": "code",
   "execution_count": 38,
   "metadata": {},
   "outputs": [],
   "source": [
    "red_df=df_fa_wknd[[\"Fall_ge1\",\"day_of_year\",\"hour\",\"norm_energy\"]]\n",
    "piv_df = pd.pivot_table(red_df,index = [\"Fall_ge1\",\"day_of_year\"],columns = \"hour\",values=\"norm_energy\")\n",
    "piv_df.reset_index(inplace = True)\n",
    "grp_df = piv_df.groupby(\"Fall_ge1\").mean()\n",
    "#grp_df.reset_index(inplace = True)\n",
    "del grp_df[\"day_of_year\"]\n",
    "kmeans_df = grp_df"
   ]
  },
  {
   "cell_type": "code",
   "execution_count": 39,
   "metadata": {
    "scrolled": true
   },
   "outputs": [
    {
     "data": {
      "image/png": "[encoded data removed]",
      "text/plain": [
       "<Figure size 432x288 with 1 Axes>"
      ]
     },
     "metadata": {
      "needs_background": "light"
     },
     "output_type": "display_data"
    }
   ],
   "source": [
    "k_algs, k_res = elbow_method(kmeans_df, 2, 20)"
   ]
  },
  {
   "cell_type": "code",
   "execution_count": 40,
   "metadata": {},
   "outputs": [],
   "source": [
    "algorithm = k_algs[3] # Values of k are {2, 3, 4, 5, ..., 20} so k = 7 corresponds to the element with index 5\n",
    "clustering = k_res[3]"
   ]
  },
  {
   "cell_type": "code",
   "execution_count": 41,
   "metadata": {},
   "outputs": [],
   "source": [
    "k=5\n",
    "idx = np.argsort(clustering.cluster_centers_.mean(axis = 1))\n",
    "lut = np.zeros_like(idx)\n",
    "lut[idx] = np.arange(k)"
   ]
  },
  {
   "cell_type": "code",
   "execution_count": 42,
   "metadata": {
    "scrolled": true
   },
   "outputs": [],
   "source": [
    "#assign cluster labels odered by mean to dataframe\n",
    "kmeans_df['cluster'] = list(lut[clustering.labels_])"
   ]
  },
  {
   "cell_type": "code",
   "execution_count": 43,
   "metadata": {},
   "outputs": [],
   "source": [
    "#assign cluster membership to column of cluster_df\n",
    "cluster_df[\"cluster_fa_wknd\"] = kmeans_df['cluster']"
   ]
  },
  {
   "cell_type": "code",
   "execution_count": 44,
   "metadata": {
    "scrolled": true
   },
   "outputs": [],
   "source": [
    "#order clustering centers by mean\n",
    "clust_cent = clustering.cluster_centers_[idx]"
   ]
  },
  {
   "cell_type": "code",
   "execution_count": 45,
   "metadata": {
    "scrolled": true
   },
   "outputs": [
    {
     "data": {
      "text/plain": [
       "Text(0.5, 0, 'hour')"
      ]
     },
     "execution_count": 45,
     "metadata": {},
     "output_type": "execute_result"
    },
    {
     "data": {
      "image/png": "[encoded data removed]",
      "text/plain": [
       "<Figure size 432x288 with 1 Axes>"
      ]
     },
     "metadata": {
      "needs_background": "light"
     },
     "output_type": "display_data"
    }
   ],
   "source": [
    "for x in range(0,5,1):\n",
    "    plt.plot(clust_cent[x],label = \"Cluster \" + str(x))  \n",
    "plt.legend()\n",
    "plt.title(\"Fall weekend days\")\n",
    "plt.ylabel(\"normalized consumption\")\n",
    "plt.xlabel(\"hour\")"
   ]
  },
  {
   "cell_type": "code",
   "execution_count": 46,
   "metadata": {},
   "outputs": [
    {
     "data": {
      "text/html": [
       "<div>\n",
       "<style scoped>\n",
       "    .dataframe tbody tr th:only-of-type {\n",
       "        vertical-align: middle;\n",
       "    }\n",
       "\n",
       "    .dataframe tbody tr th {\n",
       "        vertical-align: top;\n",
       "    }\n",
       "\n",
       "    .dataframe thead th {\n",
       "        text-align: right;\n",
       "    }\n",
       "</style>\n",
       "<table border=\"1\" class=\"dataframe\">\n",
       "  <thead>\n",
       "    <tr style=\"text-align: right;\">\n",
       "      <th></th>\n",
       "      <th>Silhouette</th>\n",
       "      <th>Calinski-Harabasz</th>\n",
       "      <th>Davies-Bouldin</th>\n",
       "    </tr>\n",
       "  </thead>\n",
       "  <tbody>\n",
       "    <tr>\n",
       "      <th>0</th>\n",
       "      <td>0.773019</td>\n",
       "      <td>5702.545915</td>\n",
       "      <td>0.376897</td>\n",
       "    </tr>\n",
       "    <tr>\n",
       "      <th>1</th>\n",
       "      <td>0.758755</td>\n",
       "      <td>5972.042162</td>\n",
       "      <td>0.401836</td>\n",
       "    </tr>\n",
       "  </tbody>\n",
       "</table>\n",
       "</div>"
      ],
      "text/plain": [
       "   Silhouette  Calinski-Harabasz  Davies-Bouldin\n",
       "0    0.773019        5702.545915        0.376897\n",
       "1    0.758755        5972.042162        0.401836"
      ]
     },
     "execution_count": 46,
     "metadata": {},
     "output_type": "execute_result"
    }
   ],
   "source": [
    "clust_coef = clust_coef.append(cluster_validation(kmeans_df,clustering),ignore_index = True)\n",
    "clust_coef"
   ]
  },
  {
   "cell_type": "code",
   "execution_count": 47,
   "metadata": {},
   "outputs": [],
   "source": [
    "#kmeans_df['Fall_ge1'] = kmeans_df.index\n",
    "#clusters_visualisation(kmeans_df, id_vars = [\"Fall_ge1\",'cluster'], value_vars = list(kmeans_df.columns[0:23]))"
   ]
  },
  {
   "cell_type": "markdown",
   "metadata": {},
   "source": [
    "# Winter"
   ]
  },
  {
   "cell_type": "markdown",
   "metadata": {},
   "source": [
    "### Winter weekdays"
   ]
  },
  {
   "cell_type": "code",
   "execution_count": 48,
   "metadata": {},
   "outputs": [],
   "source": [
    "red_df=df_wi_week[[\"Fall_ge1\",\"day_of_year\",\"hour\",\"norm_energy\"]]\n",
    "piv_df = pd.pivot_table(red_df,index = [\"Fall_ge1\",\"day_of_year\"],columns = \"hour\",values=\"norm_energy\")\n",
    "piv_df.reset_index(inplace = True)\n",
    "grp_df = piv_df.groupby(\"Fall_ge1\").mean()\n",
    "#grp_df.reset_index(inplace = True)\n",
    "del grp_df[\"day_of_year\"]\n",
    "kmeans_df = grp_df\n",
    "#del kmeans_df[\"Fall_ge1\"]\n",
    "#grp_df"
   ]
  },
  {
   "cell_type": "code",
   "execution_count": 49,
   "metadata": {},
   "outputs": [
    {
     "data": {
      "text/plain": [
       "0.18465487294729163"
      ]
     },
     "execution_count": 49,
     "metadata": {},
     "output_type": "execute_result"
    }
   ],
   "source": [
    "kmeans_model = cluster.KMeans(n_clusters=5).fit(kmeans_df)\n",
    "labels = kmeans_model.labels_\n",
    "metrics.silhouette_score(kmeans_df, labels, metric='euclidean')"
   ]
  },
  {
   "cell_type": "code",
   "execution_count": 50,
   "metadata": {
    "scrolled": true
   },
   "outputs": [
    {
     "data": {
      "image/png": "[encoded data removed]",
      "text/plain": [
       "<Figure size 432x288 with 1 Axes>"
      ]
     },
     "metadata": {
      "needs_background": "light"
     },
     "output_type": "display_data"
    }
   ],
   "source": [
    "k_algs, k_res = elbow_method(kmeans_df, 2, 20)"
   ]
  },
  {
   "cell_type": "code",
   "execution_count": 51,
   "metadata": {},
   "outputs": [],
   "source": [
    "algorithm = k_algs[3] # Values of k are {2, 3, 4, 5, ..., 20} so k = 7 corresponds to the element with index 5\n",
    "clustering = k_res[3]"
   ]
  },
  {
   "cell_type": "code",
   "execution_count": 52,
   "metadata": {},
   "outputs": [],
   "source": [
    "k=5\n",
    "idx = np.argsort(clustering.cluster_centers_.mean(axis = 1))\n",
    "lut = np.zeros_like(idx)\n",
    "lut[idx] = np.arange(k)"
   ]
  },
  {
   "cell_type": "code",
   "execution_count": 53,
   "metadata": {
    "scrolled": true
   },
   "outputs": [],
   "source": [
    "#assign cluster labels odered by mean to dataframe\n",
    "kmeans_df['cluster'] = list(lut[clustering.labels_])"
   ]
  },
  {
   "cell_type": "code",
   "execution_count": 54,
   "metadata": {},
   "outputs": [],
   "source": [
    "#assign cluster membership to column of cluster_df\n",
    "cluster_df[\"cluster_wi_week\"] = kmeans_df['cluster']"
   ]
  },
  {
   "cell_type": "code",
   "execution_count": 55,
   "metadata": {
    "scrolled": true
   },
   "outputs": [],
   "source": [
    "#order clustering centers by mean\n",
    "clust_cent = clustering.cluster_centers_[idx]"
   ]
  },
  {
   "cell_type": "code",
   "execution_count": 56,
   "metadata": {
    "scrolled": true
   },
   "outputs": [
    {
     "data": {
      "text/plain": [
       "Text(0.5, 0, 'hour')"
      ]
     },
     "execution_count": 56,
     "metadata": {},
     "output_type": "execute_result"
    },
    {
     "data": {
      "image/png": "[encoded data removed]",
      "text/plain": [
       "<Figure size 432x288 with 1 Axes>"
      ]
     },
     "metadata": {
      "needs_background": "light"
     },
     "output_type": "display_data"
    }
   ],
   "source": [
    "for x in range(0,5,1):\n",
    "    plt.plot(clust_cent[x],label = \"Cluster \" + str(x))  \n",
    "plt.legend()\n",
    "plt.title(\"Winter weekdays\")\n",
    "plt.ylabel(\"normalized consumption\")\n",
    "plt.xlabel(\"hour\")"
   ]
  },
  {
   "cell_type": "code",
   "execution_count": 57,
   "metadata": {},
   "outputs": [
    {
     "data": {
      "text/html": [
       "<div>\n",
       "<style scoped>\n",
       "    .dataframe tbody tr th:only-of-type {\n",
       "        vertical-align: middle;\n",
       "    }\n",
       "\n",
       "    .dataframe tbody tr th {\n",
       "        vertical-align: top;\n",
       "    }\n",
       "\n",
       "    .dataframe thead th {\n",
       "        text-align: right;\n",
       "    }\n",
       "</style>\n",
       "<table border=\"1\" class=\"dataframe\">\n",
       "  <thead>\n",
       "    <tr style=\"text-align: right;\">\n",
       "      <th></th>\n",
       "      <th>Silhouette</th>\n",
       "      <th>Calinski-Harabasz</th>\n",
       "      <th>Davies-Bouldin</th>\n",
       "    </tr>\n",
       "  </thead>\n",
       "  <tbody>\n",
       "    <tr>\n",
       "      <th>0</th>\n",
       "      <td>0.773019</td>\n",
       "      <td>5702.545915</td>\n",
       "      <td>0.376897</td>\n",
       "    </tr>\n",
       "    <tr>\n",
       "      <th>1</th>\n",
       "      <td>0.758755</td>\n",
       "      <td>5972.042162</td>\n",
       "      <td>0.401836</td>\n",
       "    </tr>\n",
       "    <tr>\n",
       "      <th>2</th>\n",
       "      <td>0.752953</td>\n",
       "      <td>5392.094264</td>\n",
       "      <td>0.406189</td>\n",
       "    </tr>\n",
       "  </tbody>\n",
       "</table>\n",
       "</div>"
      ],
      "text/plain": [
       "   Silhouette  Calinski-Harabasz  Davies-Bouldin\n",
       "0    0.773019        5702.545915        0.376897\n",
       "1    0.758755        5972.042162        0.401836\n",
       "2    0.752953        5392.094264        0.406189"
      ]
     },
     "execution_count": 57,
     "metadata": {},
     "output_type": "execute_result"
    }
   ],
   "source": [
    "clust_coef = clust_coef.append(cluster_validation(kmeans_df,clustering),ignore_index = True)\n",
    "clust_coef"
   ]
  },
  {
   "cell_type": "code",
   "execution_count": 58,
   "metadata": {},
   "outputs": [
    {
     "data": {
      "image/png": "[encoded data removed]",
      "text/plain": [
       "<Figure size 432x288 with 1 Axes>"
      ]
     },
     "metadata": {
      "needs_background": "light"
     },
     "output_type": "display_data"
    },
    {
     "data": {
      "image/png": "[encoded data removed]",
      "text/plain": [
       "<Figure size 432x288 with 1 Axes>"
      ]
     },
     "metadata": {
      "needs_background": "light"
     },
     "output_type": "display_data"
    },
    {
     "data": {
      "image/png": "[encoded data removed]",
      "text/plain": [
       "<Figure size 432x288 with 1 Axes>"
      ]
     },
     "metadata": {
      "needs_background": "light"
     },
     "output_type": "display_data"
    },
    {
     "data": {
      "image/png": "[encoded data removed]",
      "text/plain": [
       "<Figure size 432x288 with 1 Axes>"
      ]
     },
     "metadata": {
      "needs_background": "light"
     },
     "output_type": "display_data"
    },
    {
     "data": {
      "image/png": "[encoded data removed]",
      "text/plain": [
       "<Figure size 432x288 with 1 Axes>"
      ]
     },
     "metadata": {
      "needs_background": "light"
     },
     "output_type": "display_data"
    }
   ],
   "source": [
    "kmeans_df['Fall_ge1'] = kmeans_df.index\n",
    "clusters_visualisation(kmeans_df, id_vars = [\"Fall_ge1\",'cluster'], value_vars = list(kmeans_df.columns[0:23]))\n",
    "#plt.savefig('wknd_7_norm_year.png')"
   ]
  },
  {
   "cell_type": "markdown",
   "metadata": {},
   "source": [
    "### Winter weekend days"
   ]
  },
  {
   "cell_type": "code",
   "execution_count": 59,
   "metadata": {},
   "outputs": [],
   "source": [
    "red_df=df_wi_wknd[[\"Fall_ge1\",\"day_of_year\",\"hour\",\"norm_energy\"]]\n",
    "piv_df = pd.pivot_table(red_df,index = [\"Fall_ge1\",\"day_of_year\"],columns = \"hour\",values=\"norm_energy\")\n",
    "piv_df.reset_index(inplace = True)\n",
    "grp_df = piv_df.groupby(\"Fall_ge1\").mean()\n",
    "#grp_df.reset_index(inplace = True)\n",
    "del grp_df[\"day_of_year\"]\n",
    "kmeans_df = grp_df\n",
    "#del kmeans_df[\"Fall_ge1\"]\n",
    "#grp_df"
   ]
  },
  {
   "cell_type": "code",
   "execution_count": 60,
   "metadata": {
    "scrolled": true
   },
   "outputs": [
    {
     "data": {
      "image/png": "[encoded data removed]",
      "text/plain": [
       "<Figure size 432x288 with 1 Axes>"
      ]
     },
     "metadata": {
      "needs_background": "light"
     },
     "output_type": "display_data"
    }
   ],
   "source": [
    "k_algs, k_res = elbow_method(kmeans_df, 2, 20)"
   ]
  },
  {
   "cell_type": "code",
   "execution_count": 61,
   "metadata": {},
   "outputs": [],
   "source": [
    "algorithm = k_algs[3] # Values of k are {2, 3, 4, 5, ..., 20} so k = 7 corresponds to the element with index 5\n",
    "clustering = k_res[3]"
   ]
  },
  {
   "cell_type": "code",
   "execution_count": 62,
   "metadata": {},
   "outputs": [],
   "source": [
    "#reassign cluster numbers so the cluster numbers are from lowest to highest mean\n",
    "k=5\n",
    "idx = np.argsort(clustering.cluster_centers_.mean(axis = 1))\n",
    "lut = np.zeros_like(idx)\n",
    "lut[idx] = np.arange(k)"
   ]
  },
  {
   "cell_type": "code",
   "execution_count": 63,
   "metadata": {
    "scrolled": true
   },
   "outputs": [],
   "source": [
    "#assign cluster labels odered by mean to dataframe\n",
    "kmeans_df['cluster'] = list(lut[clustering.labels_])"
   ]
  },
  {
   "cell_type": "code",
   "execution_count": 64,
   "metadata": {},
   "outputs": [],
   "source": [
    "#assign cluster membership to column of cluster_df\n",
    "cluster_df[\"cluster_wi_wknd\"] = kmeans_df['cluster']"
   ]
  },
  {
   "cell_type": "code",
   "execution_count": 65,
   "metadata": {},
   "outputs": [],
   "source": [
    "#order clustering centers by mean\n",
    "clust_cent = clustering.cluster_centers_[idx]"
   ]
  },
  {
   "cell_type": "code",
   "execution_count": 66,
   "metadata": {
    "scrolled": false
   },
   "outputs": [
    {
     "data": {
      "text/plain": [
       "Text(0.5, 0, 'hour')"
      ]
     },
     "execution_count": 66,
     "metadata": {},
     "output_type": "execute_result"
    },
    {
     "data": {
      "image/png": "[encoded data removed]",
      "text/plain": [
       "<Figure size 432x288 with 1 Axes>"
      ]
     },
     "metadata": {
      "needs_background": "light"
     },
     "output_type": "display_data"
    }
   ],
   "source": [
    "for x in range(0,5,1):\n",
    "    plt.plot(clust_cent[x],label = \"Cluster \" + str(x))  \n",
    "plt.legend()\n",
    "plt.title(\"Winter weekend days\")\n",
    "plt.ylabel(\"normalized consumption\")\n",
    "plt.xlabel(\"hour\")"
   ]
  },
  {
   "cell_type": "code",
   "execution_count": 67,
   "metadata": {},
   "outputs": [
    {
     "data": {
      "text/html": [
       "<div>\n",
       "<style scoped>\n",
       "    .dataframe tbody tr th:only-of-type {\n",
       "        vertical-align: middle;\n",
       "    }\n",
       "\n",
       "    .dataframe tbody tr th {\n",
       "        vertical-align: top;\n",
       "    }\n",
       "\n",
       "    .dataframe thead th {\n",
       "        text-align: right;\n",
       "    }\n",
       "</style>\n",
       "<table border=\"1\" class=\"dataframe\">\n",
       "  <thead>\n",
       "    <tr style=\"text-align: right;\">\n",
       "      <th></th>\n",
       "      <th>Silhouette</th>\n",
       "      <th>Calinski-Harabasz</th>\n",
       "      <th>Davies-Bouldin</th>\n",
       "    </tr>\n",
       "  </thead>\n",
       "  <tbody>\n",
       "    <tr>\n",
       "      <th>0</th>\n",
       "      <td>0.773019</td>\n",
       "      <td>5702.545915</td>\n",
       "      <td>0.376897</td>\n",
       "    </tr>\n",
       "    <tr>\n",
       "      <th>1</th>\n",
       "      <td>0.758755</td>\n",
       "      <td>5972.042162</td>\n",
       "      <td>0.401836</td>\n",
       "    </tr>\n",
       "    <tr>\n",
       "      <th>2</th>\n",
       "      <td>0.752953</td>\n",
       "      <td>5392.094264</td>\n",
       "      <td>0.406189</td>\n",
       "    </tr>\n",
       "    <tr>\n",
       "      <th>3</th>\n",
       "      <td>0.736618</td>\n",
       "      <td>4015.312017</td>\n",
       "      <td>0.422246</td>\n",
       "    </tr>\n",
       "  </tbody>\n",
       "</table>\n",
       "</div>"
      ],
      "text/plain": [
       "   Silhouette  Calinski-Harabasz  Davies-Bouldin\n",
       "0    0.773019        5702.545915        0.376897\n",
       "1    0.758755        5972.042162        0.401836\n",
       "2    0.752953        5392.094264        0.406189\n",
       "3    0.736618        4015.312017        0.422246"
      ]
     },
     "execution_count": 67,
     "metadata": {},
     "output_type": "execute_result"
    }
   ],
   "source": [
    "clust_coef = clust_coef.append(cluster_validation(kmeans_df,clustering),ignore_index = True)\n",
    "clust_coef"
   ]
  },
  {
   "cell_type": "markdown",
   "metadata": {},
   "source": [
    "# Spring"
   ]
  },
  {
   "cell_type": "markdown",
   "metadata": {},
   "source": [
    "### Spring weekdays"
   ]
  },
  {
   "cell_type": "code",
   "execution_count": 68,
   "metadata": {},
   "outputs": [],
   "source": [
    "red_df=df_sp_week[[\"Fall_ge1\",\"day_of_year\",\"hour\",\"norm_energy\"]]\n",
    "piv_df = pd.pivot_table(red_df,index = [\"Fall_ge1\",\"day_of_year\"],columns = \"hour\",values=\"norm_energy\")\n",
    "piv_df.reset_index(inplace = True)\n",
    "grp_df = piv_df.groupby(\"Fall_ge1\").mean()\n",
    "#grp_df.reset_index(inplace = True)\n",
    "del grp_df[\"day_of_year\"]\n",
    "kmeans_df = grp_df\n",
    "#del kmeans_df[\"Fall_ge1\"]\n",
    "#grp_df"
   ]
  },
  {
   "cell_type": "code",
   "execution_count": 69,
   "metadata": {
    "scrolled": true
   },
   "outputs": [
    {
     "data": {
      "image/png": "[encoded data removed]",
      "text/plain": [
       "<Figure size 432x288 with 1 Axes>"
      ]
     },
     "metadata": {
      "needs_background": "light"
     },
     "output_type": "display_data"
    }
   ],
   "source": [
    "k_algs, k_res = elbow_method(kmeans_df, 2, 20)"
   ]
  },
  {
   "cell_type": "code",
   "execution_count": 70,
   "metadata": {},
   "outputs": [],
   "source": [
    "algorithm = k_algs[3] # Values of k are {2, 3, 4, 5, ..., 20} so k = 7 corresponds to the element with index 5\n",
    "clustering = k_res[3]"
   ]
  },
  {
   "cell_type": "code",
   "execution_count": 71,
   "metadata": {},
   "outputs": [],
   "source": [
    "#reassign cluster numbers so the cluster numbers are from lowest to highest mean\n",
    "k=5\n",
    "idx = np.argsort(clustering.cluster_centers_.mean(axis = 1))\n",
    "lut = np.zeros_like(idx)\n",
    "lut[idx] = np.arange(k)"
   ]
  },
  {
   "cell_type": "code",
   "execution_count": 72,
   "metadata": {
    "scrolled": true
   },
   "outputs": [],
   "source": [
    "#assign cluster labels odered by mean to dataframe\n",
    "kmeans_df['cluster'] = list(lut[clustering.labels_])"
   ]
  },
  {
   "cell_type": "code",
   "execution_count": 73,
   "metadata": {},
   "outputs": [],
   "source": [
    "#assign cluster membership to column of cluster_df\n",
    "cluster_df[\"cluster_sp_week\"] = kmeans_df['cluster']"
   ]
  },
  {
   "cell_type": "code",
   "execution_count": 74,
   "metadata": {},
   "outputs": [],
   "source": [
    "#order clustering centers by mean\n",
    "clust_cent = clustering.cluster_centers_[idx]"
   ]
  },
  {
   "cell_type": "code",
   "execution_count": 75,
   "metadata": {
    "scrolled": true
   },
   "outputs": [
    {
     "data": {
      "text/plain": [
       "Text(0.5, 0, 'hour')"
      ]
     },
     "execution_count": 75,
     "metadata": {},
     "output_type": "execute_result"
    },
    {
     "data": {
      "image/png": "[encoded data removed]",
      "text/plain": [
       "<Figure size 432x288 with 1 Axes>"
      ]
     },
     "metadata": {
      "needs_background": "light"
     },
     "output_type": "display_data"
    }
   ],
   "source": [
    "for x in range(0,5,1):\n",
    "    plt.plot(clust_cent[x],label = \"Cluster \" + str(x))  \n",
    "plt.legend()\n",
    "plt.title(\"Spring weekdays\")\n",
    "plt.ylabel(\"normalized consumption\")\n",
    "plt.xlabel(\"hour\")"
   ]
  },
  {
   "cell_type": "code",
   "execution_count": 76,
   "metadata": {},
   "outputs": [
    {
     "data": {
      "text/html": [
       "<div>\n",
       "<style scoped>\n",
       "    .dataframe tbody tr th:only-of-type {\n",
       "        vertical-align: middle;\n",
       "    }\n",
       "\n",
       "    .dataframe tbody tr th {\n",
       "        vertical-align: top;\n",
       "    }\n",
       "\n",
       "    .dataframe thead th {\n",
       "        text-align: right;\n",
       "    }\n",
       "</style>\n",
       "<table border=\"1\" class=\"dataframe\">\n",
       "  <thead>\n",
       "    <tr style=\"text-align: right;\">\n",
       "      <th></th>\n",
       "      <th>Silhouette</th>\n",
       "      <th>Calinski-Harabasz</th>\n",
       "      <th>Davies-Bouldin</th>\n",
       "    </tr>\n",
       "  </thead>\n",
       "  <tbody>\n",
       "    <tr>\n",
       "      <th>0</th>\n",
       "      <td>0.773019</td>\n",
       "      <td>5702.545915</td>\n",
       "      <td>0.376897</td>\n",
       "    </tr>\n",
       "    <tr>\n",
       "      <th>1</th>\n",
       "      <td>0.758755</td>\n",
       "      <td>5972.042162</td>\n",
       "      <td>0.401836</td>\n",
       "    </tr>\n",
       "    <tr>\n",
       "      <th>2</th>\n",
       "      <td>0.752953</td>\n",
       "      <td>5392.094264</td>\n",
       "      <td>0.406189</td>\n",
       "    </tr>\n",
       "    <tr>\n",
       "      <th>3</th>\n",
       "      <td>0.736618</td>\n",
       "      <td>4015.312017</td>\n",
       "      <td>0.422246</td>\n",
       "    </tr>\n",
       "    <tr>\n",
       "      <th>4</th>\n",
       "      <td>0.776517</td>\n",
       "      <td>7147.419316</td>\n",
       "      <td>0.357196</td>\n",
       "    </tr>\n",
       "  </tbody>\n",
       "</table>\n",
       "</div>"
      ],
      "text/plain": [
       "   Silhouette  Calinski-Harabasz  Davies-Bouldin\n",
       "0    0.773019        5702.545915        0.376897\n",
       "1    0.758755        5972.042162        0.401836\n",
       "2    0.752953        5392.094264        0.406189\n",
       "3    0.736618        4015.312017        0.422246\n",
       "4    0.776517        7147.419316        0.357196"
      ]
     },
     "execution_count": 76,
     "metadata": {},
     "output_type": "execute_result"
    }
   ],
   "source": [
    "clust_coef = clust_coef.append(cluster_validation(kmeans_df,clustering),ignore_index = True)\n",
    "clust_coef"
   ]
  },
  {
   "cell_type": "markdown",
   "metadata": {},
   "source": [
    "### Spring weekend days"
   ]
  },
  {
   "cell_type": "code",
   "execution_count": 77,
   "metadata": {},
   "outputs": [],
   "source": [
    "red_df=df_sp_wknd[[\"Fall_ge1\",\"day_of_year\",\"hour\",\"norm_energy\"]]\n",
    "piv_df = pd.pivot_table(red_df,index = [\"Fall_ge1\",\"day_of_year\"],columns = \"hour\",values=\"norm_energy\")\n",
    "piv_df.reset_index(inplace = True)\n",
    "grp_df = piv_df.groupby(\"Fall_ge1\").mean()\n",
    "#grp_df.reset_index(inplace = True)\n",
    "del grp_df[\"day_of_year\"]\n",
    "kmeans_df = grp_df\n",
    "#del kmeans_df[\"Fall_ge1\"]\n",
    "#grp_df"
   ]
  },
  {
   "cell_type": "code",
   "execution_count": 78,
   "metadata": {
    "scrolled": true
   },
   "outputs": [
    {
     "data": {
      "image/png": "[encoded data removed]",
      "text/plain": [
       "<Figure size 432x288 with 1 Axes>"
      ]
     },
     "metadata": {
      "needs_background": "light"
     },
     "output_type": "display_data"
    }
   ],
   "source": [
    "k_algs, k_res = elbow_method(kmeans_df, 2, 20)"
   ]
  },
  {
   "cell_type": "code",
   "execution_count": 79,
   "metadata": {},
   "outputs": [],
   "source": [
    "algorithm = k_algs[3] # Values of k are {2, 3, 4, 5, ..., 20} so k = 7 corresponds to the element with index 5\n",
    "clustering = k_res[3]"
   ]
  },
  {
   "cell_type": "code",
   "execution_count": 80,
   "metadata": {},
   "outputs": [],
   "source": [
    "#reassign cluster numbers so the cluster numbers are from lowest to highest mean\n",
    "k=5\n",
    "idx = np.argsort(clustering.cluster_centers_.mean(axis = 1))\n",
    "lut = np.zeros_like(idx)\n",
    "lut[idx] = np.arange(k)"
   ]
  },
  {
   "cell_type": "code",
   "execution_count": 81,
   "metadata": {
    "scrolled": true
   },
   "outputs": [],
   "source": [
    "#assign cluster labels odered by mean to dataframe\n",
    "kmeans_df['cluster'] = list(lut[clustering.labels_])"
   ]
  },
  {
   "cell_type": "code",
   "execution_count": 82,
   "metadata": {},
   "outputs": [],
   "source": [
    "#assign cluster membership to column of cluster_df\n",
    "cluster_df[\"cluster_sp_wknd\"] = kmeans_df['cluster']"
   ]
  },
  {
   "cell_type": "code",
   "execution_count": 83,
   "metadata": {},
   "outputs": [],
   "source": [
    "#order clustering centers by mean\n",
    "clust_cent = clustering.cluster_centers_[idx]"
   ]
  },
  {
   "cell_type": "code",
   "execution_count": 84,
   "metadata": {
    "scrolled": true
   },
   "outputs": [
    {
     "data": {
      "text/plain": [
       "Text(0.5, 0, 'hour')"
      ]
     },
     "execution_count": 84,
     "metadata": {},
     "output_type": "execute_result"
    },
    {
     "data": {
      "image/png": "[encoded data removed]",
      "text/plain": [
       "<Figure size 432x288 with 1 Axes>"
      ]
     },
     "metadata": {
      "needs_background": "light"
     },
     "output_type": "display_data"
    }
   ],
   "source": [
    "for x in range(0,5,1):\n",
    "    plt.plot(clust_cent[x],label = \"Cluster \" + str(x))  \n",
    "plt.legend()\n",
    "plt.title(\"Spring weekend days\")\n",
    "plt.ylabel(\"normalized consumption\")\n",
    "plt.xlabel(\"hour\")"
   ]
  },
  {
   "cell_type": "code",
   "execution_count": 85,
   "metadata": {},
   "outputs": [
    {
     "data": {
      "text/html": [
       "<div>\n",
       "<style scoped>\n",
       "    .dataframe tbody tr th:only-of-type {\n",
       "        vertical-align: middle;\n",
       "    }\n",
       "\n",
       "    .dataframe tbody tr th {\n",
       "        vertical-align: top;\n",
       "    }\n",
       "\n",
       "    .dataframe thead th {\n",
       "        text-align: right;\n",
       "    }\n",
       "</style>\n",
       "<table border=\"1\" class=\"dataframe\">\n",
       "  <thead>\n",
       "    <tr style=\"text-align: right;\">\n",
       "      <th></th>\n",
       "      <th>Silhouette</th>\n",
       "      <th>Calinski-Harabasz</th>\n",
       "      <th>Davies-Bouldin</th>\n",
       "    </tr>\n",
       "  </thead>\n",
       "  <tbody>\n",
       "    <tr>\n",
       "      <th>0</th>\n",
       "      <td>0.773019</td>\n",
       "      <td>5702.545915</td>\n",
       "      <td>0.376897</td>\n",
       "    </tr>\n",
       "    <tr>\n",
       "      <th>1</th>\n",
       "      <td>0.758755</td>\n",
       "      <td>5972.042162</td>\n",
       "      <td>0.401836</td>\n",
       "    </tr>\n",
       "    <tr>\n",
       "      <th>2</th>\n",
       "      <td>0.752953</td>\n",
       "      <td>5392.094264</td>\n",
       "      <td>0.406189</td>\n",
       "    </tr>\n",
       "    <tr>\n",
       "      <th>3</th>\n",
       "      <td>0.736618</td>\n",
       "      <td>4015.312017</td>\n",
       "      <td>0.422246</td>\n",
       "    </tr>\n",
       "    <tr>\n",
       "      <th>4</th>\n",
       "      <td>0.776517</td>\n",
       "      <td>7147.419316</td>\n",
       "      <td>0.357196</td>\n",
       "    </tr>\n",
       "    <tr>\n",
       "      <th>5</th>\n",
       "      <td>0.767425</td>\n",
       "      <td>5171.556766</td>\n",
       "      <td>0.371833</td>\n",
       "    </tr>\n",
       "  </tbody>\n",
       "</table>\n",
       "</div>"
      ],
      "text/plain": [
       "   Silhouette  Calinski-Harabasz  Davies-Bouldin\n",
       "0    0.773019        5702.545915        0.376897\n",
       "1    0.758755        5972.042162        0.401836\n",
       "2    0.752953        5392.094264        0.406189\n",
       "3    0.736618        4015.312017        0.422246\n",
       "4    0.776517        7147.419316        0.357196\n",
       "5    0.767425        5171.556766        0.371833"
      ]
     },
     "execution_count": 85,
     "metadata": {},
     "output_type": "execute_result"
    }
   ],
   "source": [
    "clust_coef = clust_coef.append(cluster_validation(kmeans_df,clustering),ignore_index = True)\n",
    "clust_coef"
   ]
  },
  {
   "cell_type": "markdown",
   "metadata": {},
   "source": [
    "# Summer"
   ]
  },
  {
   "cell_type": "markdown",
   "metadata": {},
   "source": [
    "### Summer weekdays"
   ]
  },
  {
   "cell_type": "code",
   "execution_count": 86,
   "metadata": {},
   "outputs": [],
   "source": [
    "red_df=df_su_week[[\"Fall_ge1\",\"day_of_year\",\"hour\",\"norm_energy\"]]\n",
    "piv_df = pd.pivot_table(red_df,index = [\"Fall_ge1\",\"day_of_year\"],columns = \"hour\",values=\"norm_energy\")\n",
    "piv_df.reset_index(inplace = True)\n",
    "grp_df = piv_df.groupby(\"Fall_ge1\").mean()\n",
    "#grp_df.reset_index(inplace = True)\n",
    "del grp_df[\"day_of_year\"]\n",
    "kmeans_df = grp_df\n",
    "#del kmeans_df[\"Fall_ge1\"]\n",
    "#grp_df"
   ]
  },
  {
   "cell_type": "code",
   "execution_count": 87,
   "metadata": {
    "scrolled": true
   },
   "outputs": [
    {
     "data": {
      "image/png": "[encoded data removed]",
      "text/plain": [
       "<Figure size 432x288 with 1 Axes>"
      ]
     },
     "metadata": {
      "needs_background": "light"
     },
     "output_type": "display_data"
    }
   ],
   "source": [
    "k_algs, k_res = elbow_method(kmeans_df, 2, 20)"
   ]
  },
  {
   "cell_type": "code",
   "execution_count": 88,
   "metadata": {},
   "outputs": [],
   "source": [
    "algorithm = k_algs[3] # Values of k are {2, 3, 4, 5, ..., 20} so k = 7 corresponds to the element with index 5\n",
    "clustering = k_res[3]"
   ]
  },
  {
   "cell_type": "code",
   "execution_count": 89,
   "metadata": {},
   "outputs": [],
   "source": [
    "#reassign cluster numbers so the cluster numbers are from lowest to highest mean\n",
    "k=5\n",
    "idx = np.argsort(clustering.cluster_centers_.mean(axis = 1))\n",
    "lut = np.zeros_like(idx)\n",
    "lut[idx] = np.arange(k)"
   ]
  },
  {
   "cell_type": "code",
   "execution_count": 90,
   "metadata": {
    "scrolled": true
   },
   "outputs": [],
   "source": [
    "#assign cluster labels odered by mean to dataframe\n",
    "kmeans_df['cluster'] = list(lut[clustering.labels_])"
   ]
  },
  {
   "cell_type": "code",
   "execution_count": 91,
   "metadata": {},
   "outputs": [],
   "source": [
    "#assign cluster membership to column of cluster_df\n",
    "cluster_df[\"cluster_su_week\"] = kmeans_df['cluster']"
   ]
  },
  {
   "cell_type": "code",
   "execution_count": 92,
   "metadata": {},
   "outputs": [],
   "source": [
    "#order clustering centers by mean\n",
    "clust_cent = clustering.cluster_centers_[idx]"
   ]
  },
  {
   "cell_type": "code",
   "execution_count": 93,
   "metadata": {
    "scrolled": true
   },
   "outputs": [
    {
     "data": {
      "text/plain": [
       "Text(0.5, 0, 'hour')"
      ]
     },
     "execution_count": 93,
     "metadata": {},
     "output_type": "execute_result"
    },
    {
     "data": {
      "image/png": "[encoded data removed]",
      "text/plain": [
       "<Figure size 432x288 with 1 Axes>"
      ]
     },
     "metadata": {
      "needs_background": "light"
     },
     "output_type": "display_data"
    }
   ],
   "source": [
    "for x in range(0,5,1):\n",
    "    plt.plot(clust_cent[x],label = \"Cluster \" + str(x))  \n",
    "plt.legend()\n",
    "plt.title(\"Summer weekdays\")\n",
    "plt.ylabel(\"normalized consumption\")\n",
    "plt.xlabel(\"hour\")"
   ]
  },
  {
   "cell_type": "code",
   "execution_count": 94,
   "metadata": {},
   "outputs": [
    {
     "data": {
      "text/html": [
       "<div>\n",
       "<style scoped>\n",
       "    .dataframe tbody tr th:only-of-type {\n",
       "        vertical-align: middle;\n",
       "    }\n",
       "\n",
       "    .dataframe tbody tr th {\n",
       "        vertical-align: top;\n",
       "    }\n",
       "\n",
       "    .dataframe thead th {\n",
       "        text-align: right;\n",
       "    }\n",
       "</style>\n",
       "<table border=\"1\" class=\"dataframe\">\n",
       "  <thead>\n",
       "    <tr style=\"text-align: right;\">\n",
       "      <th></th>\n",
       "      <th>Silhouette</th>\n",
       "      <th>Calinski-Harabasz</th>\n",
       "      <th>Davies-Bouldin</th>\n",
       "    </tr>\n",
       "  </thead>\n",
       "  <tbody>\n",
       "    <tr>\n",
       "      <th>0</th>\n",
       "      <td>0.773019</td>\n",
       "      <td>5702.545915</td>\n",
       "      <td>0.376897</td>\n",
       "    </tr>\n",
       "    <tr>\n",
       "      <th>1</th>\n",
       "      <td>0.758755</td>\n",
       "      <td>5972.042162</td>\n",
       "      <td>0.401836</td>\n",
       "    </tr>\n",
       "    <tr>\n",
       "      <th>2</th>\n",
       "      <td>0.752953</td>\n",
       "      <td>5392.094264</td>\n",
       "      <td>0.406189</td>\n",
       "    </tr>\n",
       "    <tr>\n",
       "      <th>3</th>\n",
       "      <td>0.736618</td>\n",
       "      <td>4015.312017</td>\n",
       "      <td>0.422246</td>\n",
       "    </tr>\n",
       "    <tr>\n",
       "      <th>4</th>\n",
       "      <td>0.776517</td>\n",
       "      <td>7147.419316</td>\n",
       "      <td>0.357196</td>\n",
       "    </tr>\n",
       "    <tr>\n",
       "      <th>5</th>\n",
       "      <td>0.767425</td>\n",
       "      <td>5171.556766</td>\n",
       "      <td>0.371833</td>\n",
       "    </tr>\n",
       "    <tr>\n",
       "      <th>6</th>\n",
       "      <td>0.810587</td>\n",
       "      <td>7369.977528</td>\n",
       "      <td>0.307884</td>\n",
       "    </tr>\n",
       "  </tbody>\n",
       "</table>\n",
       "</div>"
      ],
      "text/plain": [
       "   Silhouette  Calinski-Harabasz  Davies-Bouldin\n",
       "0    0.773019        5702.545915        0.376897\n",
       "1    0.758755        5972.042162        0.401836\n",
       "2    0.752953        5392.094264        0.406189\n",
       "3    0.736618        4015.312017        0.422246\n",
       "4    0.776517        7147.419316        0.357196\n",
       "5    0.767425        5171.556766        0.371833\n",
       "6    0.810587        7369.977528        0.307884"
      ]
     },
     "execution_count": 94,
     "metadata": {},
     "output_type": "execute_result"
    }
   ],
   "source": [
    "clust_coef = clust_coef.append(cluster_validation(kmeans_df,clustering),ignore_index = True)\n",
    "clust_coef"
   ]
  },
  {
   "cell_type": "markdown",
   "metadata": {},
   "source": [
    "### Summer weekend days"
   ]
  },
  {
   "cell_type": "code",
   "execution_count": 95,
   "metadata": {},
   "outputs": [],
   "source": [
    "red_df=df_su_wknd[[\"Fall_ge1\",\"day_of_year\",\"hour\",\"norm_energy\"]]\n",
    "piv_df = pd.pivot_table(red_df,index = [\"Fall_ge1\",\"day_of_year\"],columns = \"hour\",values=\"norm_energy\")\n",
    "piv_df.reset_index(inplace = True)\n",
    "grp_df = piv_df.groupby(\"Fall_ge1\").mean()\n",
    "#grp_df.reset_index(inplace = True)\n",
    "del grp_df[\"day_of_year\"]\n",
    "kmeans_df = grp_df\n",
    "#del kmeans_df[\"Fall_ge1\"]\n",
    "#grp_df"
   ]
  },
  {
   "cell_type": "code",
   "execution_count": 96,
   "metadata": {
    "scrolled": true
   },
   "outputs": [
    {
     "data": {
      "image/png": "[encoded data removed]",
      "text/plain": [
       "<Figure size 432x288 with 1 Axes>"
      ]
     },
     "metadata": {
      "needs_background": "light"
     },
     "output_type": "display_data"
    }
   ],
   "source": [
    "k_algs, k_res = elbow_method(kmeans_df, 2, 20)"
   ]
  },
  {
   "cell_type": "code",
   "execution_count": 97,
   "metadata": {},
   "outputs": [],
   "source": [
    "algorithm = k_algs[3] # Values of k are {2, 3, 4, 5, ..., 20} so k = 7 corresponds to the element with index 5\n",
    "clustering = k_res[3]"
   ]
  },
  {
   "cell_type": "code",
   "execution_count": 98,
   "metadata": {},
   "outputs": [],
   "source": [
    "#reassign cluster numbers so the cluster numbers are from lowest to highest mean\n",
    "k=5\n",
    "idx = np.argsort(clustering.cluster_centers_.mean(axis = 1))\n",
    "lut = np.zeros_like(idx)\n",
    "lut[idx] = np.arange(k)"
   ]
  },
  {
   "cell_type": "code",
   "execution_count": 99,
   "metadata": {
    "scrolled": true
   },
   "outputs": [],
   "source": [
    "#assign cluster labels odered by mean to dataframe\n",
    "kmeans_df['cluster'] = list(lut[clustering.labels_])"
   ]
  },
  {
   "cell_type": "code",
   "execution_count": 100,
   "metadata": {},
   "outputs": [],
   "source": [
    "#assign cluster membership to column of cluster_df\n",
    "cluster_df[\"cluster_su_wknd\"] = kmeans_df['cluster']"
   ]
  },
  {
   "cell_type": "code",
   "execution_count": 101,
   "metadata": {},
   "outputs": [],
   "source": [
    "#order clustering centers by mean\n",
    "clust_cent = clustering.cluster_centers_[idx]"
   ]
  },
  {
   "cell_type": "code",
   "execution_count": 102,
   "metadata": {
    "scrolled": true
   },
   "outputs": [
    {
     "data": {
      "text/plain": [
       "Text(0.5, 0, 'hour')"
      ]
     },
     "execution_count": 102,
     "metadata": {},
     "output_type": "execute_result"
    },
    {
     "data": {
      "image/png": "[encoded data removed]",
      "text/plain": [
       "<Figure size 432x288 with 1 Axes>"
      ]
     },
     "metadata": {
      "needs_background": "light"
     },
     "output_type": "display_data"
    }
   ],
   "source": [
    "for x in range(0,5,1):\n",
    "    plt.plot(clust_cent[x],label = \"Cluster \" + str(x))  \n",
    "plt.legend()\n",
    "plt.title(\"Summer weekend days\")\n",
    "plt.ylabel(\"normalized consumption\")\n",
    "plt.xlabel(\"hour\")"
   ]
  },
  {
   "cell_type": "code",
   "execution_count": 103,
   "metadata": {},
   "outputs": [
    {
     "data": {
      "text/html": [
       "<div>\n",
       "<style scoped>\n",
       "    .dataframe tbody tr th:only-of-type {\n",
       "        vertical-align: middle;\n",
       "    }\n",
       "\n",
       "    .dataframe tbody tr th {\n",
       "        vertical-align: top;\n",
       "    }\n",
       "\n",
       "    .dataframe thead th {\n",
       "        text-align: right;\n",
       "    }\n",
       "</style>\n",
       "<table border=\"1\" class=\"dataframe\">\n",
       "  <thead>\n",
       "    <tr style=\"text-align: right;\">\n",
       "      <th></th>\n",
       "      <th>Silhouette</th>\n",
       "      <th>Calinski-Harabasz</th>\n",
       "      <th>Davies-Bouldin</th>\n",
       "    </tr>\n",
       "  </thead>\n",
       "  <tbody>\n",
       "    <tr>\n",
       "      <th>0</th>\n",
       "      <td>0.773019</td>\n",
       "      <td>5702.545915</td>\n",
       "      <td>0.376897</td>\n",
       "    </tr>\n",
       "    <tr>\n",
       "      <th>1</th>\n",
       "      <td>0.758755</td>\n",
       "      <td>5972.042162</td>\n",
       "      <td>0.401836</td>\n",
       "    </tr>\n",
       "    <tr>\n",
       "      <th>2</th>\n",
       "      <td>0.752953</td>\n",
       "      <td>5392.094264</td>\n",
       "      <td>0.406189</td>\n",
       "    </tr>\n",
       "    <tr>\n",
       "      <th>3</th>\n",
       "      <td>0.736618</td>\n",
       "      <td>4015.312017</td>\n",
       "      <td>0.422246</td>\n",
       "    </tr>\n",
       "    <tr>\n",
       "      <th>4</th>\n",
       "      <td>0.776517</td>\n",
       "      <td>7147.419316</td>\n",
       "      <td>0.357196</td>\n",
       "    </tr>\n",
       "    <tr>\n",
       "      <th>5</th>\n",
       "      <td>0.767425</td>\n",
       "      <td>5171.556766</td>\n",
       "      <td>0.371833</td>\n",
       "    </tr>\n",
       "    <tr>\n",
       "      <th>6</th>\n",
       "      <td>0.810587</td>\n",
       "      <td>7369.977528</td>\n",
       "      <td>0.307884</td>\n",
       "    </tr>\n",
       "    <tr>\n",
       "      <th>7</th>\n",
       "      <td>0.799351</td>\n",
       "      <td>6918.974862</td>\n",
       "      <td>0.326784</td>\n",
       "    </tr>\n",
       "  </tbody>\n",
       "</table>\n",
       "</div>"
      ],
      "text/plain": [
       "   Silhouette  Calinski-Harabasz  Davies-Bouldin\n",
       "0    0.773019        5702.545915        0.376897\n",
       "1    0.758755        5972.042162        0.401836\n",
       "2    0.752953        5392.094264        0.406189\n",
       "3    0.736618        4015.312017        0.422246\n",
       "4    0.776517        7147.419316        0.357196\n",
       "5    0.767425        5171.556766        0.371833\n",
       "6    0.810587        7369.977528        0.307884\n",
       "7    0.799351        6918.974862        0.326784"
      ]
     },
     "execution_count": 103,
     "metadata": {},
     "output_type": "execute_result"
    }
   ],
   "source": [
    "clust_coef = clust_coef.append(cluster_validation(kmeans_df,clustering),ignore_index = True)\n",
    "clust_coef"
   ]
  },
  {
   "cell_type": "markdown",
   "metadata": {},
   "source": [
    "# Additional methods "
   ]
  },
  {
   "cell_type": "code",
   "execution_count": 104,
   "metadata": {
    "scrolled": true
   },
   "outputs": [],
   "source": [
    "#kmeans_df['Fall_ge1'] = kmeans_df.index\n",
    "#clusters_visualisation(kmeans_df, id_vars = [\"Fall_ge1\",'cluster'], value_vars = list(kmeans_df.columns[0:23]))\n",
    "#plt.savefig('wknd_7_norm_year.png')"
   ]
  },
  {
   "cell_type": "markdown",
   "metadata": {},
   "source": [
    "## Closer look at a cluster"
   ]
  },
  {
   "cell_type": "code",
   "execution_count": 105,
   "metadata": {},
   "outputs": [],
   "source": [
    "# cl4_df = kmeans_df[kmeans_df[\"cluster\"]==4]"
   ]
  },
  {
   "cell_type": "code",
   "execution_count": 106,
   "metadata": {},
   "outputs": [],
   "source": [
    "# cl4_lst = list(cl4_df[\"Fall_ge1\"].unique())\n",
    "# cl4_lst"
   ]
  },
  {
   "cell_type": "code",
   "execution_count": 107,
   "metadata": {},
   "outputs": [],
   "source": [
    "# df[df[\"Fall_ge1\"].isin(cl4_lst)].loc[\"2010-05-02\"].groupby(\"Fall_ge1\").Electricity_Demand.plot()"
   ]
  },
  {
   "cell_type": "code",
   "execution_count": 108,
   "metadata": {},
   "outputs": [],
   "source": [
    "# cl6_df = df[df[\"Fall_ge1\"].isin(cl6_lst)]\n",
    "# cl6_df[\"Daten_Herkunft\"].unique()"
   ]
  },
  {
   "cell_type": "markdown",
   "metadata": {},
   "source": [
    "# Connection with survey data "
   ]
  },
  {
   "cell_type": "code",
   "execution_count": 109,
   "metadata": {},
   "outputs": [],
   "source": [
    "survey = pd.read_csv(\"/Users/tamo/Documents/Studium/WS 20-21/Master thesis/Data/Intelliekon/survey1.csv\")"
   ]
  },
  {
   "cell_type": "code",
   "execution_count": 110,
   "metadata": {},
   "outputs": [],
   "source": [
    "descript = pd.read_csv(\"/Users/tamo/Documents/Studium/WS 20-21/Master thesis/Data/Intelliekon/survey1_descript.csv\")"
   ]
  },
  {
   "cell_type": "code",
   "execution_count": 111,
   "metadata": {},
   "outputs": [
    {
     "data": {
      "text/plain": [
       "array(['Krefeld', 'Oelde', 'Schwerte', 'Ulm', 'Hassfurt',\n",
       "       'Kaiserslautern', 'Celle', 'Münster', 'Linz'], dtype=object)"
      ]
     },
     "execution_count": 111,
     "metadata": {},
     "output_type": "execute_result"
    }
   ],
   "source": [
    "survey.ort.unique()"
   ]
  },
  {
   "cell_type": "code",
   "execution_count": null,
   "metadata": {},
   "outputs": [],
   "source": []
  },
  {
   "cell_type": "code",
   "execution_count": 112,
   "metadata": {},
   "outputs": [
    {
     "ename": "NameError",
     "evalue": "name 'surv_id' is not defined",
     "output_type": "error",
     "traceback": [
      "\u001b[0;31m---------------------------------------------------------------------------\u001b[0m",
      "\u001b[0;31mNameError\u001b[0m                                 Traceback (most recent call last)",
      "\u001b[0;32m<ipython-input-112-70ff955d28c5>\u001b[0m in \u001b[0;36m<module>\u001b[0;34m\u001b[0m\n\u001b[1;32m      1\u001b[0m \u001b[0;31m#Change of location\u001b[0m\u001b[0;34m\u001b[0m\u001b[0;34m\u001b[0m\u001b[0;34m\u001b[0m\u001b[0m\n\u001b[0;32m----> 2\u001b[0;31m \u001b[0msurv_id\u001b[0m\u001b[0;34m.\u001b[0m\u001b[0mUm_Auszug\u001b[0m\u001b[0;34m.\u001b[0m\u001b[0mvalue_counts\u001b[0m\u001b[0;34m(\u001b[0m\u001b[0;34m)\u001b[0m\u001b[0;34m\u001b[0m\u001b[0;34m\u001b[0m\u001b[0m\n\u001b[0m",
      "\u001b[0;31mNameError\u001b[0m: name 'surv_id' is not defined"
     ]
    }
   ],
   "source": [
    "#Change of location\n",
    "surv_id.Um_Auszug.value_counts()"
   ]
  },
  {
   "cell_type": "code",
   "execution_count": null,
   "metadata": {},
   "outputs": [],
   "source": [
    "#number of residents\n",
    "surv_id.q01.value_counts().plot(kind = \"bar\")"
   ]
  },
  {
   "cell_type": "code",
   "execution_count": null,
   "metadata": {},
   "outputs": [],
   "source": [
    "surv_id[surv_id[\"ort\"] == \"Schwerte\"].q01.value_counts().plot(kind = \"pie\")"
   ]
  },
  {
   "cell_type": "code",
   "execution_count": null,
   "metadata": {},
   "outputs": [],
   "source": [
    "#Number of adults\n",
    "surv_id.q01a1.value_counts()"
   ]
  },
  {
   "cell_type": "code",
   "execution_count": null,
   "metadata": {},
   "outputs": [],
   "source": [
    "#Size of apartement\n",
    "surv_id.s07.value_counts()\n",
    "df_x = surv_id.s07.value_counts().to_frame()\n",
    "df_x.reset_index(inplace=True)\n",
    "df_x.columns = ['square meter','number']\n",
    "df_x.plot(kind='scatter',x='square meter',y='number')\n",
    "plt.show()"
   ]
  },
  {
   "cell_type": "code",
   "execution_count": null,
   "metadata": {},
   "outputs": [],
   "source": [
    "#Household income\n",
    "surv_id.s08.value_counts()"
   ]
  },
  {
   "cell_type": "code",
   "execution_count": null,
   "metadata": {},
   "outputs": [],
   "source": [
    "#Size of apartement per person\n",
    "surv_id.s07pp.value_counts()\n",
    "df_x = surv_id.s07pp.value_counts().to_frame()\n",
    "df_x.reset_index(inplace=True)\n",
    "df_x.columns = ['square meter','number']\n",
    "df_x.plot(kind='scatter',x='square meter',y='number')\n",
    "plt.title(\"square meters per person\")\n",
    "plt.show()"
   ]
  },
  {
   "cell_type": "code",
   "execution_count": null,
   "metadata": {},
   "outputs": [],
   "source": [
    "#Employment status\n",
    "surv_id.ewstatus.value_counts()"
   ]
  },
  {
   "cell_type": "code",
   "execution_count": null,
   "metadata": {},
   "outputs": [],
   "source": [
    "surv_red = surv_id[[\"Fall_ge\",\"ort\",\"Um_Auszug\",\"q01\",\"q01a1\",\"s07\",\"s08\",\"s07pp\",\"ewstatus\",\"berufst\"]]\n",
    "surv_red"
   ]
  },
  {
   "cell_type": "code",
   "execution_count": null,
   "metadata": {},
   "outputs": [],
   "source": [
    "#funktion for plotting mean of different cities to compare them\n",
    "def mean_plot_location (df,String):\n",
    "    red_df=df[[\"hour\",\"norm_energy\",\"Daten_Herkunft\"]]\n",
    "    loc_lst=[\"Münster\",\"Schwerte\",\"Krefeld\"]\n",
    "    plt.plot(red_df.groupby(\"hour\").mean(), label =\"All locations\")\n",
    "    for loc in loc_lst:\n",
    "        loc_df = red_df[red_df[\"Daten_Herkunft\"]== loc].groupby(\"hour\").mean()\n",
    "        plt.plot(loc_df, label = loc)\n",
    "    plt.legend()\n",
    "    plt.title(String + \" mean of diffeerent locations\")"
   ]
  },
  {
   "cell_type": "code",
   "execution_count": null,
   "metadata": {},
   "outputs": [],
   "source": [
    "mean_plot_location(df_fa_week,\"Fall week\")"
   ]
  },
  {
   "cell_type": "code",
   "execution_count": null,
   "metadata": {},
   "outputs": [],
   "source": [
    "mean_plot_location(df_fa_wknd,\"Fall weekend\")"
   ]
  },
  {
   "cell_type": "code",
   "execution_count": null,
   "metadata": {},
   "outputs": [],
   "source": [
    "mean_plot_location(df_wi_week,\"Winter week\")"
   ]
  },
  {
   "cell_type": "code",
   "execution_count": null,
   "metadata": {},
   "outputs": [],
   "source": [
    "mean_plot_location(df_wi_wknd, \"Winter weekend\")"
   ]
  },
  {
   "cell_type": "code",
   "execution_count": null,
   "metadata": {},
   "outputs": [],
   "source": [
    "mean_plot_location(df_sp_week, \"Spring week\")"
   ]
  },
  {
   "cell_type": "code",
   "execution_count": null,
   "metadata": {},
   "outputs": [],
   "source": [
    "mean_plot_location(df_sp_wknd, \"Spring weekend\")"
   ]
  },
  {
   "cell_type": "code",
   "execution_count": null,
   "metadata": {},
   "outputs": [],
   "source": [
    "mean_plot_location(df_su_week, \"Summer week\")"
   ]
  },
  {
   "cell_type": "code",
   "execution_count": null,
   "metadata": {},
   "outputs": [],
   "source": [
    "mean_plot_location(df_su_wknd, \"Summer weekend\")"
   ]
  },
  {
   "cell_type": "code",
   "execution_count": null,
   "metadata": {},
   "outputs": [],
   "source": [
    "#Size of apartement per person\n",
    "surv_id.s03a.value_counts().plot(kind=\"pie\")\n"
   ]
  },
  {
   "cell_type": "code",
   "execution_count": null,
   "metadata": {},
   "outputs": [],
   "source": [
    "def survey_connection (df_surv,location):\n",
    "    \n",
    "    df_surv = df_surv[df_surv[\"ort\"] == location]\n",
    "    #number of residents\n",
    "    num_res = df_surv[df_surv[\"q01\"]<= 10].q01.value_counts().sort_index()\n",
    "    #number of adults\n",
    "    num_adlt = df_surv[df_surv[\"q01a1\"]<= 10].q01a1.value_counts().sort_index()\n",
    "    #number of full-time working residents\n",
    "    num_full = df_surv.s03a.value_counts().sort_index()\n",
    "    #number of half-time working residents\n",
    "    num_half = df_surv.s03b.value_counts().sort_index() \n",
    "    \n",
    "    fig, axs = plt.subplots(1, 4, figsize=(14, 6))\n",
    "    #number of residents as pie plot\n",
    "    num_res.plot(ax=axs[0], kind = \"pie\",title = \"Number of residents\")\n",
    "    #number of residents as pie plot\n",
    "    num_adlt.plot(ax=axs[1], kind = \"pie\",title = \"Adult residents\")\n",
    "    num_full.plot(ax=axs[2], kind = \"pie\",title = \"Full-time working residents\")\n",
    "    num_half.plot(ax=axs[3], kind = \"pie\",title = \"Half-time working residents\")\n",
    "    \n",
    "    fig.suptitle('Plotting of categorical variables of ' + location)\n",
    "    "
   ]
  },
  {
   "cell_type": "code",
   "execution_count": null,
   "metadata": {},
   "outputs": [],
   "source": [
    "survey_connection (surv_id,\"Münster\")"
   ]
  },
  {
   "cell_type": "code",
   "execution_count": null,
   "metadata": {},
   "outputs": [],
   "source": [
    "survey_connection (surv_id,\"Schwerte\")"
   ]
  },
  {
   "cell_type": "code",
   "execution_count": null,
   "metadata": {},
   "outputs": [],
   "source": [
    "survey_connection (surv_id,\"Krefeld\")"
   ]
  },
  {
   "cell_type": "code",
   "execution_count": 113,
   "metadata": {},
   "outputs": [
    {
     "ename": "NameError",
     "evalue": "name 'surv_id' is not defined",
     "output_type": "error",
     "traceback": [
      "\u001b[0;31m---------------------------------------------------------------------------\u001b[0m",
      "\u001b[0;31mNameError\u001b[0m                                 Traceback (most recent call last)",
      "\u001b[0;32m<ipython-input-113-7b45dab8eb85>\u001b[0m in \u001b[0;36m<module>\u001b[0;34m\u001b[0m\n\u001b[0;32m----> 1\u001b[0;31m \u001b[0msurv_id\u001b[0m\u001b[0;34m\u001b[0m\u001b[0;34m\u001b[0m\u001b[0m\n\u001b[0m",
      "\u001b[0;31mNameError\u001b[0m: name 'surv_id' is not defined"
     ]
    }
   ],
   "source": [
    "surv_id"
   ]
  },
  {
   "cell_type": "code",
   "execution_count": null,
   "metadata": {},
   "outputs": [],
   "source": []
  }
 ],
 "metadata": {
  "kernelspec": {
   "display_name": "Python 3",
   "language": "python",
   "name": "python3"
  },
  "language_info": {
   "codemirror_mode": {
    "name": "ipython",
    "version": 3
   },
   "file_extension": ".py",
   "mimetype": "text/x-python",
   "name": "python",
   "nbconvert_exporter": "python",
   "pygments_lexer": "ipython3",
   "version": "3.8.5"
  }
 },
 "nbformat": 4,
 "nbformat_minor": 4
}
